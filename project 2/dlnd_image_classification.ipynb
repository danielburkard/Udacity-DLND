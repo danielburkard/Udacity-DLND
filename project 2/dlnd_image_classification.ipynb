{
 "cells": [
  {
   "cell_type": "markdown",
   "metadata": {
    "collapsed": true,
    "deletable": true,
    "editable": true
   },
   "source": [
    "# Image Classification\n",
    "In this project, you'll classify images from the [CIFAR-10 dataset](https://www.cs.toronto.edu/~kriz/cifar.html).  The dataset consists of airplanes, dogs, cats, and other objects. You'll preprocess the images, then train a convolutional neural network on all the samples. The images need to be normalized and the labels need to be one-hot encoded.  You'll get to apply what you learned and build a convolutional, max pooling, dropout, and fully connected layers.  At the end, you'll get to see your neural network's predictions on the sample images.\n",
    "## Get the Data\n",
    "Run the following cell to download the [CIFAR-10 dataset for python](https://www.cs.toronto.edu/~kriz/cifar-10-python.tar.gz)."
   ]
  },
  {
   "cell_type": "code",
   "execution_count": null,
   "metadata": {
    "collapsed": false,
    "deletable": true,
    "editable": true
   },
   "outputs": [],
   "source": [
    "\"\"\"\n",
    "DON'T MODIFY ANYTHING IN THIS CELL THAT IS BELOW THIS LINE\n",
    "\"\"\"\n",
    "from urllib.request import urlretrieve\n",
    "from os.path import isfile, isdir\n",
    "from tqdm import tqdm\n",
    "import problem_unittests as tests\n",
    "import tarfile\n",
    "\n",
    "cifar10_dataset_folder_path = 'cifar-10-batches-py'\n",
    "\n",
    "class DLProgress(tqdm):\n",
    "    last_block = 0\n",
    "\n",
    "    def hook(self, block_num=1, block_size=1, total_size=None):\n",
    "        self.total = total_size\n",
    "        self.update((block_num - self.last_block) * block_size)\n",
    "        self.last_block = block_num\n",
    "\n",
    "if not isfile('cifar-10-python.tar.gz'):\n",
    "    with DLProgress(unit='B', unit_scale=True, miniters=1, desc='CIFAR-10 Dataset') as pbar:\n",
    "        urlretrieve(\n",
    "            'https://www.cs.toronto.edu/~kriz/cifar-10-python.tar.gz',\n",
    "            'cifar-10-python.tar.gz',\n",
    "            pbar.hook)\n",
    "\n",
    "if not isdir(cifar10_dataset_folder_path):\n",
    "    with tarfile.open('cifar-10-python.tar.gz') as tar:\n",
    "        tar.extractall()\n",
    "        tar.close()\n",
    "\n",
    "\n",
    "tests.test_folder_path(cifar10_dataset_folder_path)"
   ]
  },
  {
   "cell_type": "markdown",
   "metadata": {
    "deletable": true,
    "editable": true
   },
   "source": [
    "## Explore the Data\n",
    "The dataset is broken into batches to prevent your machine from running out of memory.  The CIFAR-10 dataset consists of 5 batches, named `data_batch_1`, `data_batch_2`, etc.. Each batch contains the labels and images that are one of the following:\n",
    "* airplane\n",
    "* automobile\n",
    "* bird\n",
    "* cat\n",
    "* deer\n",
    "* dog\n",
    "* frog\n",
    "* horse\n",
    "* ship\n",
    "* truck\n",
    "\n",
    "Understanding a dataset is part of making predictions on the data.  Play around with the code cell below by changing the `batch_id` and `sample_id`. The `batch_id` is the id for a batch (1-5). The `sample_id` is the id for a image and label pair in the batch.\n",
    "\n",
    "Ask yourself \"What are all possible labels?\", \"What is the range of values for the image data?\", \"Are the labels in order or random?\".  Answers to questions like these will help you preprocess the data and end up with better predictions."
   ]
  },
  {
   "cell_type": "code",
   "execution_count": null,
   "metadata": {
    "collapsed": false,
    "deletable": true,
    "editable": true
   },
   "outputs": [],
   "source": [
    "%matplotlib inline\n",
    "%config InlineBackend.figure_format = 'retina'\n",
    "\n",
    "import helper\n",
    "import numpy as np\n",
    "\n",
    "# Explore the dataset\n",
    "batch_id = 2\n",
    "sample_id = 6\n",
    "helper.display_stats(cifar10_dataset_folder_path, batch_id, sample_id)"
   ]
  },
  {
   "cell_type": "markdown",
   "metadata": {
    "deletable": true,
    "editable": true
   },
   "source": [
    "## Implement Preprocess Functions\n",
    "### Normalize\n",
    "In the cell below, implement the `normalize` function to take in image data, `x`, and return it as a normalized Numpy array. The values should be in the range of 0 to 1, inclusive.  The return object should be the same shape as `x`."
   ]
  },
  {
   "cell_type": "code",
   "execution_count": null,
   "metadata": {
    "collapsed": false,
    "deletable": true,
    "editable": true
   },
   "outputs": [],
   "source": [
    "def normalize(x):\n",
    "    \"\"\"\n",
    "    Normalize a list of sample image data in the range of 0 to 1\n",
    "    : x: List of image data.  The image shape is (32, 32, 3)\n",
    "    : return: Numpy array of normalize data\n",
    "    \"\"\"\n",
    "    return x/255\n",
    "\n",
    "\n",
    "\"\"\"\n",
    "DON'T MODIFY ANYTHING IN THIS CELL THAT IS BELOW THIS LINE\n",
    "\"\"\"\n",
    "tests.test_normalize(normalize)"
   ]
  },
  {
   "cell_type": "markdown",
   "metadata": {
    "deletable": true,
    "editable": true
   },
   "source": [
    "### One-hot encode\n",
    "Just like the previous code cell, you'll be implementing a function for preprocessing.  This time, you'll implement the `one_hot_encode` function. The input, `x`, are a list of labels.  Implement the function to return the list of labels as One-Hot encoded Numpy array.  The possible values for labels are 0 to 9. The one-hot encoding function should return the same encoding for each value between each call to `one_hot_encode`.  Make sure to save the map of encodings outside the function.\n",
    "\n",
    "Hint: Don't reinvent the wheel."
   ]
  },
  {
   "cell_type": "code",
   "execution_count": null,
   "metadata": {
    "collapsed": false,
    "deletable": true,
    "editable": true
   },
   "outputs": [],
   "source": [
    "def one_hot_encode(x):\n",
    "    \"\"\"\n",
    "    One hot encode a list of sample labels. Return a one-hot encoded vector for each label.\n",
    "    : x: List of sample Labels\n",
    "    : return: Numpy array of one-hot encoded labels\n",
    "    \"\"\"\n",
    "    a = len(x)\n",
    "    b = np.zeros((a, 10))\n",
    "    b[np.arange(a), x] = 1\n",
    "    \n",
    "    return b\n",
    "\n",
    "\n",
    "\"\"\"\n",
    "DON'T MODIFY ANYTHING IN THIS CELL THAT IS BELOW THIS LINE\n",
    "\"\"\"\n",
    "tests.test_one_hot_encode(one_hot_encode)"
   ]
  },
  {
   "cell_type": "markdown",
   "metadata": {
    "deletable": true,
    "editable": true
   },
   "source": [
    "### Randomize Data\n",
    "As you saw from exploring the data above, the order of the samples are randomized.  It doesn't hurt to randomize it again, but you don't need to for this dataset."
   ]
  },
  {
   "cell_type": "markdown",
   "metadata": {
    "deletable": true,
    "editable": true
   },
   "source": [
    "## Preprocess all the data and save it\n",
    "Running the code cell below will preprocess all the CIFAR-10 data and save it to file. The code below also uses 10% of the training data for validation."
   ]
  },
  {
   "cell_type": "code",
   "execution_count": null,
   "metadata": {
    "collapsed": false,
    "deletable": true,
    "editable": true
   },
   "outputs": [],
   "source": [
    "\"\"\"\n",
    "DON'T MODIFY ANYTHING IN THIS CELL\n",
    "\"\"\"\n",
    "# Preprocess Training, Validation, and Testing Data\n",
    "helper.preprocess_and_save_data(cifar10_dataset_folder_path, normalize, one_hot_encode)"
   ]
  },
  {
   "cell_type": "markdown",
   "metadata": {
    "deletable": true,
    "editable": true
   },
   "source": [
    "# Check Point\n",
    "This is your first checkpoint.  If you ever decide to come back to this notebook or have to restart the notebook, you can start from here.  The preprocessed data has been saved to disk."
   ]
  },
  {
   "cell_type": "code",
   "execution_count": 1,
   "metadata": {
    "collapsed": true,
    "deletable": true,
    "editable": true
   },
   "outputs": [],
   "source": [
    "\"\"\"\n",
    "DON'T MODIFY ANYTHING IN THIS CELL\n",
    "\"\"\"\n",
    "import pickle\n",
    "import problem_unittests as tests\n",
    "import helper\n",
    "\n",
    "# Load the Preprocessed Validation data\n",
    "valid_features, valid_labels = pickle.load(open('preprocess_validation.p', mode='rb'))"
   ]
  },
  {
   "cell_type": "markdown",
   "metadata": {
    "deletable": true,
    "editable": true
   },
   "source": [
    "## Build the network\n",
    "For the neural network, you'll build each layer into a function.  Most of the code you've seen has been outside of functions. To test your code more thoroughly, we require that you put each layer in a function.  This allows us to give you better feedback and test for simple mistakes using our unittests before you submit your project.\n",
    "\n",
    ">**Note:** If you're finding it hard to dedicate enough time for this course each week, we've provided a small shortcut to this part of the project. In the next couple of problems, you'll have the option to use classes from the [TensorFlow Layers](https://www.tensorflow.org/api_docs/python/tf/layers) or [TensorFlow Layers (contrib)](https://www.tensorflow.org/api_guides/python/contrib.layers) packages to build each layer, except the layers you build in the \"Convolutional and Max Pooling Layer\" section.  TF Layers is similar to Keras's and TFLearn's abstraction to layers, so it's easy to pickup.\n",
    "\n",
    ">However, if you would like to get the most out of this course, try to solve all the problems _without_ using anything from the TF Layers packages. You **can** still use classes from other packages that happen to have the same name as ones you find in TF Layers! For example, instead of using the TF Layers version of the `conv2d` class, [tf.layers.conv2d](https://www.tensorflow.org/api_docs/python/tf/layers/conv2d), you would want to use the TF Neural Network version of `conv2d`, [tf.nn.conv2d](https://www.tensorflow.org/api_docs/python/tf/nn/conv2d). \n",
    "\n",
    "Let's begin!\n",
    "\n",
    "### Input\n",
    "The neural network needs to read the image data, one-hot encoded labels, and dropout keep probability. Implement the following functions\n",
    "* Implement `neural_net_image_input`\n",
    " * Return a [TF Placeholder](https://www.tensorflow.org/api_docs/python/tf/placeholder)\n",
    " * Set the shape using `image_shape` with batch size set to `None`.\n",
    " * Name the TensorFlow placeholder \"x\" using the TensorFlow `name` parameter in the [TF Placeholder](https://www.tensorflow.org/api_docs/python/tf/placeholder).\n",
    "* Implement `neural_net_label_input`\n",
    " * Return a [TF Placeholder](https://www.tensorflow.org/api_docs/python/tf/placeholder)\n",
    " * Set the shape using `n_classes` with batch size set to `None`.\n",
    " * Name the TensorFlow placeholder \"y\" using the TensorFlow `name` parameter in the [TF Placeholder](https://www.tensorflow.org/api_docs/python/tf/placeholder).\n",
    "* Implement `neural_net_keep_prob_input`\n",
    " * Return a [TF Placeholder](https://www.tensorflow.org/api_docs/python/tf/placeholder) for dropout keep probability.\n",
    " * Name the TensorFlow placeholder \"keep_prob\" using the TensorFlow `name` parameter in the [TF Placeholder](https://www.tensorflow.org/api_docs/python/tf/placeholder).\n",
    "\n",
    "These names will be used at the end of the project to load your saved model.\n",
    "\n",
    "Note: `None` for shapes in TensorFlow allow for a dynamic size."
   ]
  },
  {
   "cell_type": "code",
   "execution_count": 2,
   "metadata": {
    "collapsed": false,
    "deletable": true,
    "editable": true
   },
   "outputs": [
    {
     "name": "stdout",
     "output_type": "stream",
     "text": [
      "Image Input Tests Passed.\n",
      "Label Input Tests Passed.\n",
      "Keep Prob Tests Passed.\n"
     ]
    }
   ],
   "source": [
    "import tensorflow as tf\n",
    "\n",
    "def neural_net_image_input(image_shape):\n",
    "    \"\"\"\n",
    "    Return a Tensor for a batch of image input\n",
    "    : image_shape: Shape of the images\n",
    "    : return: Tensor for image input.\n",
    "    \"\"\"\n",
    "    image_height = image_shape[0]\n",
    "    image_width = image_shape[1]\n",
    "    color_channels = image_shape[2]\n",
    "    tensor = tf.placeholder(tf.float32,\n",
    "                            shape=[None, image_height, image_width, color_channels],\n",
    "                            name=\"x\")\n",
    "    return tensor\n",
    "\n",
    "\n",
    "def neural_net_label_input(n_classes):\n",
    "    \"\"\"\n",
    "    Return a Tensor for a batch of label input\n",
    "    : n_classes: Number of classes\n",
    "    : return: Tensor for label input.\n",
    "    \"\"\"\n",
    "    tensor = tf.placeholder(tf.float32,\n",
    "                            shape=[None, n_classes],\n",
    "                            name=\"y\")\n",
    "    return tensor\n",
    "\n",
    "\n",
    "def neural_net_keep_prob_input():\n",
    "    \"\"\"\n",
    "    Return a Tensor for keep probability\n",
    "    : return: Tensor for keep probability.\n",
    "    \"\"\"\n",
    "    tensor = tf.placeholder(tf.float32,\n",
    "                            name=\"keep_prob\")\n",
    "    return tensor\n",
    "\n",
    "\n",
    "\"\"\"\n",
    "DON'T MODIFY ANYTHING IN THIS CELL THAT IS BELOW THIS LINE\n",
    "\"\"\"\n",
    "tf.reset_default_graph()\n",
    "tests.test_nn_image_inputs(neural_net_image_input)\n",
    "tests.test_nn_label_inputs(neural_net_label_input)\n",
    "tests.test_nn_keep_prob_inputs(neural_net_keep_prob_input)"
   ]
  },
  {
   "cell_type": "markdown",
   "metadata": {
    "deletable": true,
    "editable": true
   },
   "source": [
    "### Convolution and Max Pooling Layer\n",
    "Convolution layers have a lot of success with images. For this code cell, you should implement the function `conv2d_maxpool` to apply convolution then max pooling:\n",
    "* Create the weight and bias using `conv_ksize`, `conv_num_outputs` and the shape of `x_tensor`.\n",
    "* Apply a convolution to `x_tensor` using weight and `conv_strides`.\n",
    " * We recommend you use same padding, but you're welcome to use any padding.\n",
    "* Add bias\n",
    "* Add a nonlinear activation to the convolution.\n",
    "* Apply Max Pooling using `pool_ksize` and `pool_strides`.\n",
    " * We recommend you use same padding, but you're welcome to use any padding.\n",
    "\n",
    "**Note:** You **can't** use [TensorFlow Layers](https://www.tensorflow.org/api_docs/python/tf/layers) or [TensorFlow Layers (contrib)](https://www.tensorflow.org/api_guides/python/contrib.layers) for **this** layer, but you can still use TensorFlow's [Neural Network](https://www.tensorflow.org/api_docs/python/tf/nn) package. You may still use the shortcut option for all the **other** layers."
   ]
  },
  {
   "cell_type": "code",
   "execution_count": 3,
   "metadata": {
    "collapsed": false,
    "deletable": true,
    "editable": true
   },
   "outputs": [
    {
     "name": "stdout",
     "output_type": "stream",
     "text": [
      "Tests Passed\n"
     ]
    }
   ],
   "source": [
    "def conv2d_maxpool(x_tensor, conv_num_outputs, conv_ksize, conv_strides, pool_ksize, pool_strides):\n",
    "    \"\"\"\n",
    "    Apply convolution then max pooling to x_tensor\n",
    "    :param x_tensor: TensorFlow Tensor\n",
    "    :param conv_num_outputs: Number of outputs for the convolutional layer\n",
    "    :param conv_ksize: kernal size 2-D Tuple for the convolutional layer\n",
    "    :param conv_strides: Stride 2-D Tuple for convolution\n",
    "    :param pool_ksize: kernal size 2-D Tuple for pool\n",
    "    :param pool_strides: Stride 2-D Tuple for pool\n",
    "    : return: A tensor that represents convolution and max pooling of x_tensor\n",
    "    \"\"\"\n",
    "    # convolution helper varibales\n",
    "    input_tensor = x_tensor\n",
    "    convolution_filter_height = conv_ksize[0]\n",
    "    convolution_filter_width = conv_ksize[1] \n",
    "    # http://stackoverflow.com/questions/40666316/how-to-get-tensorflow-tensor-dimensions-shape-as-int-values\n",
    "    input_depth = x_tensor.get_shape().as_list()[3] \n",
    "    output_depth = conv_num_outputs # number of feature maps\n",
    "    convolution_stride_height = conv_strides[0]\n",
    "    convolution_stride_width = conv_strides[1]\n",
    "    filter_padding = 'SAME'\n",
    "    # weights\n",
    "    filter_weights = tf.Variable(tf.truncated_normal((convolution_filter_height,\n",
    "                                                      convolution_filter_width,\n",
    "                                                      input_depth,\n",
    "                                                      output_depth),mean=0.0, stddev=0.05))\n",
    "    # strides\n",
    "    strides = [1, convolution_stride_height, convolution_stride_width, 1] # (batch, height, width, depth)\n",
    "    # convolution\n",
    "    layer = tf.nn.conv2d(input_tensor,\n",
    "                        filter_weights,\n",
    "                        strides,\n",
    "                        filter_padding)\n",
    "    # bias\n",
    "    filter_bias = tf.Variable(tf.truncated_normal([output_depth],mean=0.0, stddev=0.05))\n",
    "    layer = tf.nn.bias_add(layer, filter_bias)\n",
    "    # activation function\n",
    "    layer = tf.nn.relu(layer)\n",
    "    # pooling helper varibles\n",
    "    pooling_filter_height = pool_ksize[0]\n",
    "    pooling_filter_width = pool_ksize[1]\n",
    "    pooling_stride_height = pool_strides[0]\n",
    "    pooling_stride_width = pool_strides[1]\n",
    "    pooling_padding = 'SAME'\n",
    "    # max pooling\n",
    "    layer = tf.nn.max_pool(layer,\n",
    "                           ksize=[1, pooling_filter_height, pooling_filter_width, 1], # (batch, height, width, depth)\n",
    "                           strides=[1, pooling_stride_height, pooling_stride_width, 1], # (batch, height, width, depth)\n",
    "                           padding=pooling_padding)\n",
    "    return layer\n",
    "\n",
    "\"\"\"\n",
    "DON'T MODIFY ANYTHING IN THIS CELL THAT IS BELOW THIS LINE\n",
    "\"\"\"\n",
    "tests.test_con_pool(conv2d_maxpool)"
   ]
  },
  {
   "cell_type": "markdown",
   "metadata": {
    "deletable": true,
    "editable": true
   },
   "source": [
    "### Flatten Layer\n",
    "Implement the `flatten` function to change the dimension of `x_tensor` from a 4-D tensor to a 2-D tensor.  The output should be the shape (*Batch Size*, *Flattened Image Size*). Shortcut option: you can use classes from the [TensorFlow Layers](https://www.tensorflow.org/api_docs/python/tf/layers) or [TensorFlow Layers (contrib)](https://www.tensorflow.org/api_guides/python/contrib.layers) packages for this layer. For more of a challenge, only use other TensorFlow packages."
   ]
  },
  {
   "cell_type": "code",
   "execution_count": 4,
   "metadata": {
    "collapsed": false,
    "deletable": true,
    "editable": true
   },
   "outputs": [
    {
     "name": "stdout",
     "output_type": "stream",
     "text": [
      "Tests Passed\n"
     ]
    }
   ],
   "source": [
    "def flatten(x_tensor):\n",
    "    \"\"\"\n",
    "    Flatten x_tensor to (Batch Size, Flattened Image Size)\n",
    "    : x_tensor: A tensor of size (Batch Size, ...), where ... are the image dimensions.\n",
    "    : return: A tensor of size (Batch Size, Flattened Image Size).\n",
    "    \"\"\"\n",
    "    shape = x_tensor.get_shape().as_list()\n",
    "    height = shape[1]\n",
    "    width = shape[2]\n",
    "    depth = shape[3]\n",
    "    dim = height * width * depth\n",
    "    return tf.reshape(x_tensor, [-1, dim])\n",
    "\n",
    "\n",
    "\"\"\"\n",
    "DON'T MODIFY ANYTHING IN THIS CELL THAT IS BELOW THIS LINE\n",
    "\"\"\"\n",
    "tests.test_flatten(flatten)"
   ]
  },
  {
   "cell_type": "markdown",
   "metadata": {
    "deletable": true,
    "editable": true
   },
   "source": [
    "### Fully-Connected Layer\n",
    "Implement the `fully_conn` function to apply a fully connected layer to `x_tensor` with the shape (*Batch Size*, *num_outputs*). Shortcut option: you can use classes from the [TensorFlow Layers](https://www.tensorflow.org/api_docs/python/tf/layers) or [TensorFlow Layers (contrib)](https://www.tensorflow.org/api_guides/python/contrib.layers) packages for this layer. For more of a challenge, only use other TensorFlow packages."
   ]
  },
  {
   "cell_type": "code",
   "execution_count": 5,
   "metadata": {
    "collapsed": false,
    "deletable": true,
    "editable": true
   },
   "outputs": [
    {
     "name": "stdout",
     "output_type": "stream",
     "text": [
      "Tests Passed\n"
     ]
    }
   ],
   "source": [
    "def fully_conn(x_tensor, num_outputs):\n",
    "    \"\"\"\n",
    "    Apply a fully connected layer to x_tensor using weight and bias\n",
    "    : x_tensor: A 2-D tensor where the first dimension is batch size.\n",
    "    : num_outputs: The number of output that the new tensor should be.\n",
    "    : return: A 2-D tensor where the second dimension is num_outputs.\n",
    "    \"\"\"\n",
    "    n_input = x_tensor.get_shape().as_list()[1]\n",
    "    # weight & bias\n",
    "    weights = tf.Variable(tf.truncated_normal([n_input, num_outputs],mean=0.0, stddev=0.05))\n",
    "    biases = tf.Variable(tf.truncated_normal([num_outputs],mean=0.0, stddev=0.05))\n",
    "    # calculate layer\n",
    "    layer = tf.add(tf.matmul(x_tensor, weights), biases)\n",
    "    layer = tf.nn.relu(layer)\n",
    "    return layer\n",
    "\n",
    "\n",
    "\"\"\"\n",
    "DON'T MODIFY ANYTHING IN THIS CELL THAT IS BELOW THIS LINE\n",
    "\"\"\"\n",
    "tests.test_fully_conn(fully_conn)"
   ]
  },
  {
   "cell_type": "markdown",
   "metadata": {
    "deletable": true,
    "editable": true
   },
   "source": [
    "### Output Layer\n",
    "Implement the `output` function to apply a fully connected layer to `x_tensor` with the shape (*Batch Size*, *num_outputs*). Shortcut option: you can use classes from the [TensorFlow Layers](https://www.tensorflow.org/api_docs/python/tf/layers) or [TensorFlow Layers (contrib)](https://www.tensorflow.org/api_guides/python/contrib.layers) packages for this layer. For more of a challenge, only use other TensorFlow packages.\n",
    "\n",
    "**Note:** Activation, softmax, or cross entropy should **not** be applied to this."
   ]
  },
  {
   "cell_type": "code",
   "execution_count": 6,
   "metadata": {
    "collapsed": false,
    "deletable": true,
    "editable": true
   },
   "outputs": [
    {
     "name": "stdout",
     "output_type": "stream",
     "text": [
      "Tests Passed\n"
     ]
    }
   ],
   "source": [
    "def output(x_tensor, num_outputs):\n",
    "    \"\"\"\n",
    "    Apply a output layer to x_tensor using weight and bias\n",
    "    : x_tensor: A 2-D tensor where the first dimension is batch size.\n",
    "    : num_outputs: The number of output that the new tensor should be.\n",
    "    : return: A 2-D tensor where the second dimension is num_outputs.\n",
    "    \"\"\"\n",
    "    n_input = x_tensor.get_shape().as_list()[1]\n",
    "    # weight & bias\n",
    "    weights = tf.Variable(tf.random_normal([n_input, num_outputs],mean=0.0, stddev=0.05))\n",
    "    biases = tf.Variable(tf.random_normal([num_outputs],mean=0.0, stddev=0.05))\n",
    "    # calculate layer\n",
    "    layer = tf.add(tf.matmul(x_tensor, weights), biases)\n",
    "    return layer\n",
    "\n",
    "\n",
    "\"\"\"\n",
    "DON'T MODIFY ANYTHING IN THIS CELL THAT IS BELOW THIS LINE\n",
    "\"\"\"\n",
    "tests.test_output(output)"
   ]
  },
  {
   "cell_type": "markdown",
   "metadata": {
    "deletable": true,
    "editable": true
   },
   "source": [
    "### Create Convolutional Model\n",
    "Implement the function `conv_net` to create a convolutional neural network model. The function takes in a batch of images, `x`, and outputs logits.  Use the layers you created above to create this model:\n",
    "\n",
    "* Apply 1, 2, or 3 Convolution and Max Pool layers\n",
    "* Apply a Flatten Layer\n",
    "* Apply 1, 2, or 3 Fully Connected Layers\n",
    "* Apply an Output Layer\n",
    "* Return the output\n",
    "* Apply [TensorFlow's Dropout](https://www.tensorflow.org/api_docs/python/tf/nn/dropout) to one or more layers in the model using `keep_prob`. "
   ]
  },
  {
   "cell_type": "code",
   "execution_count": 7,
   "metadata": {
    "collapsed": false,
    "deletable": true,
    "editable": true
   },
   "outputs": [
    {
     "name": "stdout",
     "output_type": "stream",
     "text": [
      "Neural Network Built!\n"
     ]
    }
   ],
   "source": [
    "def conv_net(x, keep_prob):\n",
    "    \"\"\"\n",
    "    Create a convolutional neural network model\n",
    "    : x: Placeholder tensor that holds image data.\n",
    "    : keep_prob: Placeholder tensor that hold dropout keep probability.\n",
    "    : return: Tensor that represents logits\n",
    "    \"\"\"\n",
    "    # Function Definition from Above:\n",
    "    #    conv2d_maxpool(x_tensor, conv_num_outputs, conv_ksize, conv_strides, pool_ksize, pool_strides)\n",
    "    conv_ksize = (3,3) # fliter size convolution\n",
    "    conv_strides = (1,1) # stide size convolution\n",
    "    pool_ksize = (1,1) # filter size pooling\n",
    "    pool_strides = (1,1) # stide size pooling\n",
    "    \n",
    "    # Conv -> Relu -> Conv -> Relu -> Pool\n",
    "    conv = conv2d_maxpool(x, 16, conv_ksize, conv_strides, pool_ksize, pool_strides)\n",
    "    conv = conv2d_maxpool(conv, 32, conv_ksize, conv_strides, (2,2), (2,2))\n",
    "    # Conv -> Relu -> Conv -> Relu -> Pool\n",
    "    conv = conv2d_maxpool(conv, 64, conv_ksize, conv_strides, pool_ksize, pool_strides)\n",
    "    conv = conv2d_maxpool(conv, 128, conv_ksize, conv_strides, (2,2), (2,2))\n",
    "    # Conv -> Relu -> Conv -> Relu -> Pool\n",
    "    conv = conv2d_maxpool(conv, 256, conv_ksize, conv_strides, pool_ksize, pool_strides)\n",
    "    conv = conv2d_maxpool(conv, 512, conv_ksize, conv_strides, (2,2), (2,2))\n",
    "    \n",
    "    #conv = tf.nn.dropout(conv, keep_prob)\n",
    "    \n",
    "    # Function Definition from Above:\n",
    "    #   flatten(x_tensor)\n",
    "    conv = flatten(conv)\n",
    "\n",
    "    # Function Definition from Above:\n",
    "    #   fully_conn(x_tensor, num_outputs)\n",
    "    # FC -> Relu -> FC -> Relu\n",
    "    conv = fully_conn(conv, 128)\n",
    "    conv = tf.nn.dropout(conv, keep_prob)\n",
    "    conv = fully_conn(conv, 64)\n",
    "    \n",
    "    # Function Definition from Above:\n",
    "    #   output(x_tensor, num_outputs)\n",
    "    outpu_layer_num_outputs = 10\n",
    "    conv = output(conv, outpu_layer_num_outputs)\n",
    "    \n",
    "    return conv\n",
    "\n",
    "\n",
    "\"\"\"\n",
    "DON'T MODIFY ANYTHING IN THIS CELL THAT IS BELOW THIS LINE\n",
    "\"\"\"\n",
    "\n",
    "##############################\n",
    "## Build the Neural Network ##\n",
    "##############################\n",
    "\n",
    "# Remove previous weights, bias, inputs, etc..\n",
    "tf.reset_default_graph()\n",
    "\n",
    "# Inputs\n",
    "x = neural_net_image_input((32, 32, 3))\n",
    "y = neural_net_label_input(10)\n",
    "keep_prob = neural_net_keep_prob_input()\n",
    "\n",
    "# Model\n",
    "logits = conv_net(x, keep_prob)\n",
    "\n",
    "# Name logits Tensor, so that is can be loaded from disk after training\n",
    "logits = tf.identity(logits, name='logits')\n",
    "\n",
    "# Loss and Optimizer\n",
    "cost = tf.reduce_mean(tf.nn.softmax_cross_entropy_with_logits(logits=logits, labels=y))\n",
    "optimizer = tf.train.AdamOptimizer().minimize(cost)\n",
    "\n",
    "# Accuracy\n",
    "correct_pred = tf.equal(tf.argmax(logits, 1), tf.argmax(y, 1))\n",
    "accuracy = tf.reduce_mean(tf.cast(correct_pred, tf.float32), name='accuracy')\n",
    "\n",
    "tests.test_conv_net(conv_net)"
   ]
  },
  {
   "cell_type": "markdown",
   "metadata": {
    "deletable": true,
    "editable": true
   },
   "source": [
    "## Train the Neural Network\n",
    "### Single Optimization\n",
    "Implement the function `train_neural_network` to do a single optimization.  The optimization should use `optimizer` to optimize in `session` with a `feed_dict` of the following:\n",
    "* `x` for image input\n",
    "* `y` for labels\n",
    "* `keep_prob` for keep probability for dropout\n",
    "\n",
    "This function will be called for each batch, so `tf.global_variables_initializer()` has already been called.\n",
    "\n",
    "Note: Nothing needs to be returned. This function is only optimizing the neural network."
   ]
  },
  {
   "cell_type": "code",
   "execution_count": 8,
   "metadata": {
    "collapsed": false,
    "deletable": true,
    "editable": true
   },
   "outputs": [
    {
     "name": "stdout",
     "output_type": "stream",
     "text": [
      "Tests Passed\n"
     ]
    }
   ],
   "source": [
    "def train_neural_network(session, optimizer, keep_probability, feature_batch, label_batch):\n",
    "    \"\"\"\n",
    "    Optimize the session on a batch of images and labels\n",
    "    : session: Current TensorFlow session\n",
    "    : optimizer: TensorFlow optimizer function\n",
    "    : keep_probability: keep probability\n",
    "    : feature_batch: Batch of Numpy image data\n",
    "    : label_batch: Batch of Numpy label data\n",
    "    \"\"\"\n",
    "    session.run(optimizer, feed_dict={\n",
    "                x: feature_batch,\n",
    "                y: label_batch,\n",
    "                keep_prob: keep_probability})\n",
    "\n",
    "\n",
    "\"\"\"\n",
    "DON'T MODIFY ANYTHING IN THIS CELL THAT IS BELOW THIS LINE\n",
    "\"\"\"\n",
    "tests.test_train_nn(train_neural_network)"
   ]
  },
  {
   "cell_type": "markdown",
   "metadata": {
    "deletable": true,
    "editable": true
   },
   "source": [
    "### Show Stats\n",
    "Implement the function `print_stats` to print loss and validation accuracy.  Use the global variables `valid_features` and `valid_labels` to calculate validation accuracy.  Use a keep probability of `1.0` to calculate the loss and validation accuracy."
   ]
  },
  {
   "cell_type": "code",
   "execution_count": 9,
   "metadata": {
    "collapsed": false,
    "deletable": true,
    "editable": true
   },
   "outputs": [],
   "source": [
    "from datetime import datetime\n",
    "\n",
    "validation_length = valid_features.shape[0] - 1\n",
    "validation_batch_size = 200\n",
    "\n",
    "def print_stats(session, feature_batch, label_batch, cost, accuracy):\n",
    "    \"\"\"\n",
    "    Print information about loss and validation accuracy\n",
    "    : session: Current TensorFlow session\n",
    "    : feature_batch: Batch of Numpy image data\n",
    "    : label_batch: Batch of Numpy label data\n",
    "    : cost: TensorFlow cost function\n",
    "    : accuracy: TensorFlow accuracy function\n",
    "    \"\"\"\n",
    "    loss = session.run(cost, feed_dict={\n",
    "                x: feature_batch,\n",
    "                y: label_batch,\n",
    "                keep_prob: 1.})\n",
    "    \n",
    "    #valid_acc = 0\n",
    "    #count = 0\n",
    "    #for start in range(0,validation_length,validation_batch_size):\n",
    "    #    end = start + batch_size -1\n",
    "    #    features = valid_features[start:end]\n",
    "    #    labels = valid_labels[start:end]\n",
    "    #    valid_acc += session.run(accuracy, feed_dict={\n",
    "    #            x: features,\n",
    "    #            y: labels,\n",
    "    #            keep_prob: 1.})\n",
    "    #    count += 1\n",
    "    #valid_acc = valid_acc / count\n",
    "    valid_acc = session.run(accuracy, feed_dict={x: valid_features, y: valid_labels, keep_prob: 1.})\n",
    "    print(\"Time: \" + datetime.now().strftime(\"%H:%M:%S\"))\n",
    "    print('Loss: {:>10.4f} Validation Accuracy: {:.6f}'.format(loss,valid_acc))"
   ]
  },
  {
   "cell_type": "markdown",
   "metadata": {
    "deletable": true,
    "editable": true
   },
   "source": [
    "### Hyperparameters\n",
    "Tune the following parameters:\n",
    "* Set `epochs` to the number of iterations until the network stops learning or start overfitting\n",
    "* Set `batch_size` to the highest number that your machine has memory for.  Most people set them to common sizes of memory:\n",
    " * 64\n",
    " * 128\n",
    " * 256\n",
    " * ...\n",
    "* Set `keep_probability` to the probability of keeping a node using dropout"
   ]
  },
  {
   "cell_type": "code",
   "execution_count": 10,
   "metadata": {
    "collapsed": true,
    "deletable": true,
    "editable": true
   },
   "outputs": [],
   "source": [
    "epochs = 30\n",
    "batch_size = 512\n",
    "keep_probability = 0.5"
   ]
  },
  {
   "cell_type": "markdown",
   "metadata": {
    "deletable": true,
    "editable": true
   },
   "source": [
    "### Train on a Single CIFAR-10 Batch\n",
    "Instead of training the neural network on all the CIFAR-10 batches of data, let's use a single batch. This should save time while you iterate on the model to get a better accuracy.  Once the final validation accuracy is 50% or greater, run the model on all the data in the next section."
   ]
  },
  {
   "cell_type": "code",
   "execution_count": null,
   "metadata": {
    "collapsed": false,
    "deletable": true,
    "editable": true
   },
   "outputs": [
    {
     "name": "stdout",
     "output_type": "stream",
     "text": [
      "Checking the Training on a Single Batch...\n",
      "Epoch  1, CIFAR-10 Batch 1:  Time: 21:39:51\n",
      "Loss:     2.2736 Validation Accuracy: 0.114600\n",
      "Epoch  2, CIFAR-10 Batch 1:  Time: 21:40:04\n",
      "Loss:     2.0881 Validation Accuracy: 0.216800\n",
      "Epoch  3, CIFAR-10 Batch 1:  Time: 21:40:17\n",
      "Loss:     2.0490 Validation Accuracy: 0.254200\n",
      "Epoch  4, CIFAR-10 Batch 1:  Time: 21:40:29\n",
      "Loss:     1.9595 Validation Accuracy: 0.288200\n",
      "Epoch  5, CIFAR-10 Batch 1:  Time: 21:40:42\n",
      "Loss:     1.8901 Validation Accuracy: 0.292600\n",
      "Epoch  6, CIFAR-10 Batch 1:  Time: 21:40:55\n",
      "Loss:     1.7838 Validation Accuracy: 0.313600\n",
      "Epoch  7, CIFAR-10 Batch 1:  Time: 21:41:08\n",
      "Loss:     1.6980 Validation Accuracy: 0.350000\n",
      "Epoch  8, CIFAR-10 Batch 1:  Time: 21:41:20\n",
      "Loss:     1.6585 Validation Accuracy: 0.360800\n",
      "Epoch  9, CIFAR-10 Batch 1:  Time: 21:41:33\n",
      "Loss:     1.6017 Validation Accuracy: 0.401200\n",
      "Epoch 10, CIFAR-10 Batch 1:  Time: 21:41:46\n",
      "Loss:     1.5438 Validation Accuracy: 0.435800\n",
      "Epoch 11, CIFAR-10 Batch 1:  Time: 21:41:58\n",
      "Loss:     1.4748 Validation Accuracy: 0.447400\n",
      "Epoch 12, CIFAR-10 Batch 1:  Time: 21:42:11\n",
      "Loss:     1.4432 Validation Accuracy: 0.459200\n",
      "Epoch 13, CIFAR-10 Batch 1:  Time: 21:42:24\n",
      "Loss:     1.3481 Validation Accuracy: 0.469000\n",
      "Epoch 14, CIFAR-10 Batch 1:  Time: 21:42:37\n",
      "Loss:     1.3011 Validation Accuracy: 0.487400\n",
      "Epoch 15, CIFAR-10 Batch 1:  Time: 21:42:49\n",
      "Loss:     1.2468 Validation Accuracy: 0.481000\n",
      "Epoch 16, CIFAR-10 Batch 1:  Time: 21:43:02\n",
      "Loss:     1.1271 Validation Accuracy: 0.513400\n",
      "Epoch 17, CIFAR-10 Batch 1:  Time: 21:43:15\n",
      "Loss:     1.1104 Validation Accuracy: 0.506400\n",
      "Epoch 18, CIFAR-10 Batch 1:  Time: 21:43:27\n",
      "Loss:     0.9641 Validation Accuracy: 0.537200\n",
      "Epoch 19, CIFAR-10 Batch 1:  Time: 21:43:40\n",
      "Loss:     0.9656 Validation Accuracy: 0.530400\n",
      "Epoch 20, CIFAR-10 Batch 1:  Time: 21:43:53\n",
      "Loss:     0.9074 Validation Accuracy: 0.543600\n",
      "Epoch 21, CIFAR-10 Batch 1:  Time: 21:44:06\n",
      "Loss:     0.7911 Validation Accuracy: 0.565000\n",
      "Epoch 22, CIFAR-10 Batch 1:  Time: 21:44:18\n",
      "Loss:     0.7071 Validation Accuracy: 0.564600\n",
      "Epoch 23, CIFAR-10 Batch 1:  Time: 21:44:31\n",
      "Loss:     0.6919 Validation Accuracy: 0.568200\n",
      "Epoch 24, CIFAR-10 Batch 1:  Time: 21:44:44\n",
      "Loss:     0.6026 Validation Accuracy: 0.578200\n",
      "Epoch 25, CIFAR-10 Batch 1:  Time: 21:44:56\n",
      "Loss:     0.5409 Validation Accuracy: 0.570000\n",
      "Epoch 26, CIFAR-10 Batch 1:  Time: 21:45:09\n",
      "Loss:     0.4709 Validation Accuracy: 0.584000\n",
      "Epoch 27, CIFAR-10 Batch 1:  Time: 21:45:22\n",
      "Loss:     0.4484 Validation Accuracy: 0.584400\n",
      "Epoch 28, CIFAR-10 Batch 1:  Time: 21:45:35\n",
      "Loss:     0.3953 Validation Accuracy: 0.582400\n",
      "Epoch 29, CIFAR-10 Batch 1:  Time: 21:45:47\n",
      "Loss:     0.3450 Validation Accuracy: 0.590000\n",
      "Epoch 30, CIFAR-10 Batch 1:  Time: 21:46:00\n",
      "Loss:     0.3557 Validation Accuracy: 0.565800\n"
     ]
    }
   ],
   "source": [
    "\"\"\"\n",
    "DON'T MODIFY ANYTHING IN THIS CELL\n",
    "\"\"\"\n",
    "print('Checking the Training on a Single Batch...')\n",
    "with tf.Session() as sess:\n",
    "    # Initializing the variables\n",
    "    sess.run(tf.global_variables_initializer())\n",
    "    \n",
    "    # Training cycle\n",
    "    for epoch in range(epochs):\n",
    "        batch_i = 1\n",
    "        for batch_features, batch_labels in helper.load_preprocess_training_batch(batch_i, batch_size):\n",
    "            train_neural_network(sess, optimizer, keep_probability, batch_features, batch_labels)\n",
    "        print('Epoch {:>2}, CIFAR-10 Batch {}:  '.format(epoch + 1, batch_i), end='')\n",
    "        print_stats(sess, batch_features, batch_labels, cost, accuracy)"
   ]
  },
  {
   "cell_type": "markdown",
   "metadata": {
    "deletable": true,
    "editable": true
   },
   "source": [
    "### Fully Train the Model\n",
    "Now that you got a good accuracy with a single CIFAR-10 batch, try it with all five batches."
   ]
  },
  {
   "cell_type": "code",
   "execution_count": null,
   "metadata": {
    "collapsed": false,
    "deletable": true,
    "editable": true
   },
   "outputs": [
    {
     "name": "stdout",
     "output_type": "stream",
     "text": [
      "Training...\n",
      "Epoch  1, CIFAR-10 Batch 1:  Time: 21:46:13\n",
      "Loss:     2.2008 Validation Accuracy: 0.192000\n",
      "Epoch  1, CIFAR-10 Batch 2:  Time: 21:46:25\n",
      "Loss:     2.0294 Validation Accuracy: 0.240600\n",
      "Epoch  1, CIFAR-10 Batch 3:  Time: 21:46:38\n",
      "Loss:     1.9714 Validation Accuracy: 0.258000\n",
      "Epoch  1, CIFAR-10 Batch 4:  Time: 21:46:51\n",
      "Loss:     1.8774 Validation Accuracy: 0.266400\n",
      "Epoch  1, CIFAR-10 Batch 5:  Time: 21:47:04\n",
      "Loss:     1.9186 Validation Accuracy: 0.280000\n",
      "Epoch  2, CIFAR-10 Batch 1:  Time: 21:47:16\n",
      "Loss:     1.8262 Validation Accuracy: 0.350600\n",
      "Epoch  2, CIFAR-10 Batch 2:  Time: 21:47:29\n",
      "Loss:     1.7911 Validation Accuracy: 0.344600\n",
      "Epoch  2, CIFAR-10 Batch 3:  Time: 21:47:42\n",
      "Loss:     1.5422 Validation Accuracy: 0.369400\n",
      "Epoch  2, CIFAR-10 Batch 4:  Time: 21:47:54\n",
      "Loss:     1.5027 Validation Accuracy: 0.411600\n",
      "Epoch  2, CIFAR-10 Batch 5:  Time: 21:48:07\n",
      "Loss:     1.5246 Validation Accuracy: 0.435000\n",
      "Epoch  3, CIFAR-10 Batch 1:  Time: 21:48:20\n",
      "Loss:     1.5597 Validation Accuracy: 0.431200\n",
      "Epoch  3, CIFAR-10 Batch 2:  Time: 21:48:33\n",
      "Loss:     1.4415 Validation Accuracy: 0.460400\n",
      "Epoch  3, CIFAR-10 Batch 3:  Time: 21:48:45\n",
      "Loss:     1.2674 Validation Accuracy: 0.470800\n",
      "Epoch  3, CIFAR-10 Batch 4:  Time: 21:48:58\n",
      "Loss:     1.2307 Validation Accuracy: 0.505600\n",
      "Epoch  3, CIFAR-10 Batch 5:  Time: 21:49:11\n",
      "Loss:     1.3270 Validation Accuracy: 0.499200\n",
      "Epoch  4, CIFAR-10 Batch 1:  Time: 21:49:23\n",
      "Loss:     1.3798 Validation Accuracy: 0.502200\n",
      "Epoch  4, CIFAR-10 Batch 2:  Time: 21:49:36\n",
      "Loss:     1.2146 Validation Accuracy: 0.532600\n",
      "Epoch  4, CIFAR-10 Batch 3:  Time: 21:49:49\n",
      "Loss:     1.0793 Validation Accuracy: 0.540600\n",
      "Epoch  4, CIFAR-10 Batch 4:  Time: 21:50:02\n",
      "Loss:     1.0626 Validation Accuracy: 0.559600\n",
      "Epoch  4, CIFAR-10 Batch 5:  Time: 21:50:14\n",
      "Loss:     1.1627 Validation Accuracy: 0.549600\n",
      "Epoch  5, CIFAR-10 Batch 1:  Time: 21:50:27\n",
      "Loss:     1.2038 Validation Accuracy: 0.568200\n",
      "Epoch  5, CIFAR-10 Batch 2:  Time: 21:50:40\n",
      "Loss:     1.0385 Validation Accuracy: 0.574800\n",
      "Epoch  5, CIFAR-10 Batch 3:  Time: 21:50:52\n",
      "Loss:     0.9340 Validation Accuracy: 0.583200\n",
      "Epoch  5, CIFAR-10 Batch 4:  Time: 21:51:05\n",
      "Loss:     0.9225 Validation Accuracy: 0.601400\n",
      "Epoch  5, CIFAR-10 Batch 5:  Time: 21:51:18\n",
      "Loss:     1.0221 Validation Accuracy: 0.601000\n",
      "Epoch  6, CIFAR-10 Batch 1:  Time: 21:51:31\n",
      "Loss:     1.0416 Validation Accuracy: 0.612000\n",
      "Epoch  6, CIFAR-10 Batch 2:  Time: 21:51:43\n",
      "Loss:     0.9382 Validation Accuracy: 0.611600\n",
      "Epoch  6, CIFAR-10 Batch 3:  Time: 21:51:56\n",
      "Loss:     0.8209 Validation Accuracy: 0.622000\n",
      "Epoch  6, CIFAR-10 Batch 4:  Time: 21:52:09\n",
      "Loss:     0.7534 Validation Accuracy: 0.635000\n",
      "Epoch  6, CIFAR-10 Batch 5:  Time: 21:52:22\n",
      "Loss:     0.8592 Validation Accuracy: 0.650000\n",
      "Epoch  7, CIFAR-10 Batch 1:  Time: 21:52:34\n",
      "Loss:     0.8780 Validation Accuracy: 0.654400\n",
      "Epoch  7, CIFAR-10 Batch 2:  Time: 21:52:47\n",
      "Loss:     0.8679 Validation Accuracy: 0.638600\n",
      "Epoch  7, CIFAR-10 Batch 3:  Time: 21:53:00\n",
      "Loss:     0.7302 Validation Accuracy: 0.651600\n",
      "Epoch  7, CIFAR-10 Batch 4:  Time: 21:53:12\n",
      "Loss:     0.6897 Validation Accuracy: 0.652400\n",
      "Epoch  7, CIFAR-10 Batch 5:  Time: 21:53:25\n",
      "Loss:     0.7491 Validation Accuracy: 0.673600\n",
      "Epoch  8, CIFAR-10 Batch 1:  Time: 21:53:38\n",
      "Loss:     0.7852 Validation Accuracy: 0.669400\n",
      "Epoch  8, CIFAR-10 Batch 2:  Time: 21:53:51\n",
      "Loss:     0.7244 Validation Accuracy: 0.679800\n",
      "Epoch  8, CIFAR-10 Batch 3:  Time: 21:54:03\n",
      "Loss:     0.6091 Validation Accuracy: 0.674000\n",
      "Epoch  8, CIFAR-10 Batch 4:  Time: 21:54:16\n",
      "Loss:     0.6163 Validation Accuracy: 0.670200\n",
      "Epoch  8, CIFAR-10 Batch 5:  Time: 21:54:29\n",
      "Loss:     0.6711 Validation Accuracy: 0.674200\n",
      "Epoch  9, CIFAR-10 Batch 1:  Time: 21:54:41\n",
      "Loss:     0.7561 Validation Accuracy: 0.691800\n",
      "Epoch  9, CIFAR-10 Batch 2:  Time: 21:54:54\n",
      "Loss:     0.6480 Validation Accuracy: 0.692800\n",
      "Epoch  9, CIFAR-10 Batch 3:  Time: 21:55:07\n",
      "Loss:     0.5381 Validation Accuracy: 0.688400\n",
      "Epoch  9, CIFAR-10 Batch 4:  Time: 21:55:20\n",
      "Loss:     0.4765 Validation Accuracy: 0.708200\n",
      "Epoch  9, CIFAR-10 Batch 5:  Time: 21:55:32\n",
      "Loss:     0.5458 Validation Accuracy: 0.708400\n",
      "Epoch 10, CIFAR-10 Batch 1:  Time: 21:55:45\n",
      "Loss:     0.6010 Validation Accuracy: 0.710200\n",
      "Epoch 10, CIFAR-10 Batch 2:  Time: 21:55:58\n",
      "Loss:     0.5503 Validation Accuracy: 0.699600\n",
      "Epoch 10, CIFAR-10 Batch 3:  Time: 21:56:10\n",
      "Loss:     0.4772 Validation Accuracy: 0.699600\n",
      "Epoch 10, CIFAR-10 Batch 4:  Time: 21:56:23\n",
      "Loss:     0.4321 Validation Accuracy: 0.714200\n",
      "Epoch 10, CIFAR-10 Batch 5:  Time: 21:56:36\n",
      "Loss:     0.5264 Validation Accuracy: 0.703400\n",
      "Epoch 11, CIFAR-10 Batch 1:  Time: 21:56:49\n",
      "Loss:     0.5035 Validation Accuracy: 0.725200\n",
      "Epoch 11, CIFAR-10 Batch 2:  Time: 21:57:01\n",
      "Loss:     0.4937 Validation Accuracy: 0.696800\n",
      "Epoch 11, CIFAR-10 Batch 3:  Time: 21:57:14\n",
      "Loss:     0.4312 Validation Accuracy: 0.711800\n",
      "Epoch 11, CIFAR-10 Batch 4:  Time: 21:57:27\n",
      "Loss:     0.4065 Validation Accuracy: 0.706200\n",
      "Epoch 11, CIFAR-10 Batch 5:  Time: 21:57:39\n",
      "Loss:     0.4784 Validation Accuracy: 0.711400\n",
      "Epoch 12, CIFAR-10 Batch 1:  Time: 21:57:52\n",
      "Loss:     0.4829 Validation Accuracy: 0.715800\n",
      "Epoch 12, CIFAR-10 Batch 2:  Time: 21:58:05\n",
      "Loss:     0.3973 Validation Accuracy: 0.714200\n",
      "Epoch 12, CIFAR-10 Batch 3:  Time: 21:58:18\n",
      "Loss:     0.3847 Validation Accuracy: 0.723800\n",
      "Epoch 12, CIFAR-10 Batch 4:  Time: 21:58:30\n",
      "Loss:     0.3701 Validation Accuracy: 0.721800\n",
      "Epoch 12, CIFAR-10 Batch 5:  Time: 21:58:43\n",
      "Loss:     0.3957 Validation Accuracy: 0.724800\n",
      "Epoch 13, CIFAR-10 Batch 1:  Time: 21:58:56\n",
      "Loss:     0.3975 Validation Accuracy: 0.725000\n",
      "Epoch 13, CIFAR-10 Batch 2:  Time: 21:59:08\n",
      "Loss:     0.3702 Validation Accuracy: 0.724600\n",
      "Epoch 13, CIFAR-10 Batch 3:  Time: 21:59:21\n",
      "Loss:     0.2963 Validation Accuracy: 0.721400\n",
      "Epoch 13, CIFAR-10 Batch 4:  Time: 21:59:34\n",
      "Loss:     0.2979 Validation Accuracy: 0.731000\n",
      "Epoch 13, CIFAR-10 Batch 5:  Time: 21:59:47\n",
      "Loss:     0.2870 Validation Accuracy: 0.735600\n",
      "Epoch 14, CIFAR-10 Batch 1:  Time: 21:59:59\n",
      "Loss:     0.3458 Validation Accuracy: 0.717400\n",
      "Epoch 14, CIFAR-10 Batch 2:  Time: 22:00:12\n",
      "Loss:     0.2702 Validation Accuracy: 0.742200\n",
      "Epoch 14, CIFAR-10 Batch 3:  Time: 22:00:25\n",
      "Loss:     0.2253 Validation Accuracy: 0.743600\n",
      "Epoch 14, CIFAR-10 Batch 4:  Time: 22:00:37\n",
      "Loss:     0.2602 Validation Accuracy: 0.729800\n",
      "Epoch 14, CIFAR-10 Batch 5:  Time: 22:00:50\n",
      "Loss:     0.2732 Validation Accuracy: 0.731600\n",
      "Epoch 15, CIFAR-10 Batch 1:  Time: 22:01:03\n",
      "Loss:     0.3360 Validation Accuracy: 0.690800\n",
      "Epoch 15, CIFAR-10 Batch 2:  Time: 22:01:16\n",
      "Loss:     0.2696 Validation Accuracy: 0.728000\n",
      "Epoch 15, CIFAR-10 Batch 3:  Time: 22:01:28\n",
      "Loss:     0.2299 Validation Accuracy: 0.728400\n",
      "Epoch 15, CIFAR-10 Batch 4:  Time: 22:01:41\n",
      "Loss:     0.2132 Validation Accuracy: 0.725400\n",
      "Epoch 15, CIFAR-10 Batch 5:  Time: 22:01:54\n",
      "Loss:     0.2417 Validation Accuracy: 0.718200\n",
      "Epoch 16, CIFAR-10 Batch 1:  Time: 22:02:06\n",
      "Loss:     0.2548 Validation Accuracy: 0.725200\n",
      "Epoch 16, CIFAR-10 Batch 2:  Time: 22:02:19\n",
      "Loss:     0.2018 Validation Accuracy: 0.740200\n",
      "Epoch 16, CIFAR-10 Batch 3:  Time: 22:02:32\n",
      "Loss:     0.2060 Validation Accuracy: 0.721400\n",
      "Epoch 16, CIFAR-10 Batch 4:  Time: 22:02:45\n",
      "Loss:     0.1925 Validation Accuracy: 0.729600\n",
      "Epoch 16, CIFAR-10 Batch 5:  Time: 22:02:57\n",
      "Loss:     0.1950 Validation Accuracy: 0.723000\n",
      "Epoch 17, CIFAR-10 Batch 1:  Time: 22:03:10\n",
      "Loss:     0.1962 Validation Accuracy: 0.737400\n",
      "Epoch 17, CIFAR-10 Batch 2:  Time: 22:03:23\n",
      "Loss:     0.2255 Validation Accuracy: 0.726000\n",
      "Epoch 17, CIFAR-10 Batch 3:  Time: 22:03:35\n",
      "Loss:     0.1413 Validation Accuracy: 0.732600\n",
      "Epoch 17, CIFAR-10 Batch 4:  Time: 22:03:48\n",
      "Loss:     0.1566 Validation Accuracy: 0.749600\n",
      "Epoch 17, CIFAR-10 Batch 5:  Time: 22:04:01\n",
      "Loss:     0.1360 Validation Accuracy: 0.733200\n",
      "Epoch 18, CIFAR-10 Batch 1:  Time: 22:04:14\n",
      "Loss:     0.1574 Validation Accuracy: 0.750000\n",
      "Epoch 18, CIFAR-10 Batch 2:  Time: 22:04:26\n",
      "Loss:     0.1283 Validation Accuracy: 0.748800\n",
      "Epoch 18, CIFAR-10 Batch 3:  Time: 22:04:39\n",
      "Loss:     0.1122 Validation Accuracy: 0.755000\n",
      "Epoch 18, CIFAR-10 Batch 4:  Time: 22:04:52\n",
      "Loss:     0.1526 Validation Accuracy: 0.722200\n",
      "Epoch 18, CIFAR-10 Batch 5:  Time: 22:05:04\n",
      "Loss:     0.1130 Validation Accuracy: 0.743600\n",
      "Epoch 19, CIFAR-10 Batch 1:  Time: 22:05:17\n",
      "Loss:     0.1149 Validation Accuracy: 0.750600\n",
      "Epoch 19, CIFAR-10 Batch 2:  Time: 22:05:30\n",
      "Loss:     0.1322 Validation Accuracy: 0.744600\n",
      "Epoch 19, CIFAR-10 Batch 3:  Time: 22:05:43\n",
      "Loss:     0.0807 Validation Accuracy: 0.755000\n",
      "Epoch 19, CIFAR-10 Batch 4:  Time: 22:05:55\n",
      "Loss:     0.1522 Validation Accuracy: 0.709600\n",
      "Epoch 19, CIFAR-10 Batch 5:  Time: 22:06:08\n",
      "Loss:     0.1430 Validation Accuracy: 0.739400\n",
      "Epoch 20, CIFAR-10 Batch 1:  Time: 22:06:21\n",
      "Loss:     0.1003 Validation Accuracy: 0.743400\n",
      "Epoch 20, CIFAR-10 Batch 2:  Time: 22:06:33\n",
      "Loss:     0.1018 Validation Accuracy: 0.740400\n",
      "Epoch 20, CIFAR-10 Batch 3:  Time: 22:06:46\n",
      "Loss:     0.0839 Validation Accuracy: 0.741000\n",
      "Epoch 20, CIFAR-10 Batch 4:  Time: 22:06:59\n",
      "Loss:     0.0847 Validation Accuracy: 0.736600\n",
      "Epoch 20, CIFAR-10 Batch 5:  Time: 22:07:12\n",
      "Loss:     0.1097 Validation Accuracy: 0.744400\n",
      "Epoch 21, CIFAR-10 Batch 1:  Time: 22:07:24\n",
      "Loss:     0.1187 Validation Accuracy: 0.725800\n",
      "Epoch 21, CIFAR-10 Batch 2:  Time: 22:07:37\n",
      "Loss:     0.0850 Validation Accuracy: 0.750000\n",
      "Epoch 21, CIFAR-10 Batch 3:  Time: 22:07:50\n",
      "Loss:     0.0574 Validation Accuracy: 0.740200\n",
      "Epoch 21, CIFAR-10 Batch 4:  Time: 22:08:02\n",
      "Loss:     0.0688 Validation Accuracy: 0.741000\n",
      "Epoch 21, CIFAR-10 Batch 5:  Time: 22:08:15\n",
      "Loss:     0.0916 Validation Accuracy: 0.736600\n",
      "Epoch 22, CIFAR-10 Batch 1:  Time: 22:08:28\n",
      "Loss:     0.0828 Validation Accuracy: 0.741800\n",
      "Epoch 22, CIFAR-10 Batch 2:  Time: 22:08:41\n",
      "Loss:     0.0540 Validation Accuracy: 0.751600\n",
      "Epoch 22, CIFAR-10 Batch 3:  Time: 22:08:53\n",
      "Loss:     0.0354 Validation Accuracy: 0.754200\n",
      "Epoch 22, CIFAR-10 Batch 4:  Time: 22:09:06\n",
      "Loss:     0.0769 Validation Accuracy: 0.726400\n",
      "Epoch 22, CIFAR-10 Batch 5:  Time: 22:09:19\n",
      "Loss:     0.0684 Validation Accuracy: 0.747800\n",
      "Epoch 23, CIFAR-10 Batch 1:  Time: 22:09:31\n",
      "Loss:     0.0582 Validation Accuracy: 0.743200\n",
      "Epoch 23, CIFAR-10 Batch 2:  Time: 22:09:44\n",
      "Loss:     0.0468 Validation Accuracy: 0.720400\n",
      "Epoch 23, CIFAR-10 Batch 3:  Time: 22:09:57\n",
      "Loss:     0.0430 Validation Accuracy: 0.755800\n",
      "Epoch 23, CIFAR-10 Batch 4:  Time: 22:10:10\n",
      "Loss:     0.0891 Validation Accuracy: 0.715800\n",
      "Epoch 23, CIFAR-10 Batch 5:  Time: 22:10:22\n",
      "Loss:     0.0795 Validation Accuracy: 0.745200\n",
      "Epoch 24, CIFAR-10 Batch 1:  Time: 22:10:35\n",
      "Loss:     0.0394 Validation Accuracy: 0.752800\n",
      "Epoch 24, CIFAR-10 Batch 2:  Time: 22:10:48\n",
      "Loss:     0.0417 Validation Accuracy: 0.740200\n",
      "Epoch 24, CIFAR-10 Batch 3:  Time: 22:11:00\n",
      "Loss:     0.0335 Validation Accuracy: 0.748600\n",
      "Epoch 24, CIFAR-10 Batch 4:  Time: 22:11:13\n",
      "Loss:     0.0534 Validation Accuracy: 0.743800\n",
      "Epoch 24, CIFAR-10 Batch 5:  Time: 22:11:26\n",
      "Loss:     0.0419 Validation Accuracy: 0.750400\n",
      "Epoch 25, CIFAR-10 Batch 1:  Time: 22:11:39\n",
      "Loss:     0.0383 Validation Accuracy: 0.752800\n",
      "Epoch 25, CIFAR-10 Batch 2:  Time: 22:11:51\n",
      "Loss:     0.0244 Validation Accuracy: 0.753600\n",
      "Epoch 25, CIFAR-10 Batch 3:  Time: 22:12:04\n",
      "Loss:     0.0427 Validation Accuracy: 0.733200\n",
      "Epoch 25, CIFAR-10 Batch 4:  Time: 22:12:17\n",
      "Loss:     0.0574 Validation Accuracy: 0.738400\n",
      "Epoch 25, CIFAR-10 Batch 5:  Time: 22:12:29\n",
      "Loss:     0.0320 Validation Accuracy: 0.746400\n",
      "Epoch 26, CIFAR-10 Batch 1:  Time: 22:12:42\n",
      "Loss:     0.0248 Validation Accuracy: 0.751200\n",
      "Epoch 26, CIFAR-10 Batch 2:  Time: 22:12:55\n",
      "Loss:     0.0145 Validation Accuracy: 0.752600\n",
      "Epoch 26, CIFAR-10 Batch 3:  Time: 22:13:08\n",
      "Loss:     0.0215 Validation Accuracy: 0.734000\n",
      "Epoch 26, CIFAR-10 Batch 4:  Time: 22:13:20\n",
      "Loss:     0.0528 Validation Accuracy: 0.728600\n",
      "Epoch 26, CIFAR-10 Batch 5:  Time: 22:13:33\n",
      "Loss:     0.0366 Validation Accuracy: 0.740200\n",
      "Epoch 27, CIFAR-10 Batch 1:  Time: 22:13:46\n",
      "Loss:     0.0336 Validation Accuracy: 0.750400\n",
      "Epoch 27, CIFAR-10 Batch 2:  Time: 22:13:58\n",
      "Loss:     0.0144 Validation Accuracy: 0.745200\n",
      "Epoch 27, CIFAR-10 Batch 3:  Time: 22:14:11\n",
      "Loss:     0.0147 Validation Accuracy: 0.744400\n",
      "Epoch 27, CIFAR-10 Batch 4:  Time: 22:14:24\n",
      "Loss:     0.0268 Validation Accuracy: 0.736600\n",
      "Epoch 27, CIFAR-10 Batch 5:  Time: 22:14:37\n",
      "Loss:     0.0313 Validation Accuracy: 0.737800\n",
      "Epoch 28, CIFAR-10 Batch 1:  Time: 22:14:49\n",
      "Loss:     0.0368 Validation Accuracy: 0.751800\n",
      "Epoch 28, CIFAR-10 Batch 2:  Time: 22:15:02\n",
      "Loss:     0.0167 Validation Accuracy: 0.757000\n",
      "Epoch 28, CIFAR-10 Batch 3:  Time: 22:15:15\n",
      "Loss:     0.0192 Validation Accuracy: 0.746800\n",
      "Epoch 28, CIFAR-10 Batch 4:  Time: 22:15:27\n",
      "Loss:     0.0174 Validation Accuracy: 0.750600\n",
      "Epoch 28, CIFAR-10 Batch 5:  Time: 22:15:40\n",
      "Loss:     0.0223 Validation Accuracy: 0.739400\n",
      "Epoch 29, CIFAR-10 Batch 1:  Time: 22:15:53\n",
      "Loss:     0.0155 Validation Accuracy: 0.750400\n",
      "Epoch 29, CIFAR-10 Batch 2:  Time: 22:16:05\n",
      "Loss:     0.0100 Validation Accuracy: 0.756000\n",
      "Epoch 29, CIFAR-10 Batch 3:  Time: 22:16:18\n",
      "Loss:     0.0146 Validation Accuracy: 0.744200\n",
      "Epoch 29, CIFAR-10 Batch 4:  Time: 22:16:31\n",
      "Loss:     0.0116 Validation Accuracy: 0.757000\n",
      "Epoch 29, CIFAR-10 Batch 5:  Time: 22:16:44\n",
      "Loss:     0.0080 Validation Accuracy: 0.756800\n"
     ]
    }
   ],
   "source": [
    "\"\"\"\n",
    "DON'T MODIFY ANYTHING IN THIS CELL\n",
    "\"\"\"\n",
    "save_model_path = './image_classification'\n",
    "\n",
    "print('Training...')\n",
    "with tf.Session() as sess:\n",
    "    # Initializing the variables\n",
    "    sess.run(tf.global_variables_initializer())\n",
    "    \n",
    "    # Training cycle\n",
    "    for epoch in range(epochs):\n",
    "        # Loop over all batches\n",
    "        n_batches = 5\n",
    "        for batch_i in range(1, n_batches + 1):\n",
    "            for batch_features, batch_labels in helper.load_preprocess_training_batch(batch_i, batch_size):\n",
    "                train_neural_network(sess, optimizer, keep_probability, batch_features, batch_labels)\n",
    "            print('Epoch {:>2}, CIFAR-10 Batch {}:  '.format(epoch + 1, batch_i), end='')\n",
    "            print_stats(sess, batch_features, batch_labels, cost, accuracy)\n",
    "            \n",
    "    # Save Model\n",
    "    saver = tf.train.Saver()\n",
    "    save_path = saver.save(sess, save_model_path)"
   ]
  },
  {
   "cell_type": "markdown",
   "metadata": {
    "deletable": true,
    "editable": true
   },
   "source": [
    "# Checkpoint\n",
    "The model has been saved to disk.\n",
    "## Test Model\n",
    "Test your model against the test dataset.  This will be your final accuracy. You should have an accuracy greater than 50%. If you don't, keep tweaking the model architecture and parameters."
   ]
  },
  {
   "cell_type": "code",
   "execution_count": null,
   "metadata": {
    "collapsed": false,
    "deletable": true,
    "editable": true
   },
   "outputs": [],
   "source": [
    "\"\"\"\n",
    "DON'T MODIFY ANYTHING IN THIS CELL\n",
    "\"\"\"\n",
    "%matplotlib inline\n",
    "%config InlineBackend.figure_format = 'retina'\n",
    "\n",
    "import tensorflow as tf\n",
    "import pickle\n",
    "import helper\n",
    "import random\n",
    "\n",
    "# Set batch size if not already set\n",
    "try:\n",
    "    if batch_size:\n",
    "        pass\n",
    "except NameError:\n",
    "    batch_size = 64\n",
    "\n",
    "save_model_path = './image_classification'\n",
    "n_samples = 4\n",
    "top_n_predictions = 3\n",
    "\n",
    "def test_model():\n",
    "    \"\"\"\n",
    "    Test the saved model against the test dataset\n",
    "    \"\"\"\n",
    "\n",
    "    test_features, test_labels = pickle.load(open('preprocess_training.p', mode='rb'))\n",
    "    loaded_graph = tf.Graph()\n",
    "\n",
    "    with tf.Session(graph=loaded_graph) as sess:\n",
    "        # Load model\n",
    "        loader = tf.train.import_meta_graph(save_model_path + '.meta')\n",
    "        loader.restore(sess, save_model_path)\n",
    "\n",
    "        # Get Tensors from loaded model\n",
    "        loaded_x = loaded_graph.get_tensor_by_name('x:0')\n",
    "        loaded_y = loaded_graph.get_tensor_by_name('y:0')\n",
    "        loaded_keep_prob = loaded_graph.get_tensor_by_name('keep_prob:0')\n",
    "        loaded_logits = loaded_graph.get_tensor_by_name('logits:0')\n",
    "        loaded_acc = loaded_graph.get_tensor_by_name('accuracy:0')\n",
    "        \n",
    "        # Get accuracy in batches for memory limitations\n",
    "        test_batch_acc_total = 0\n",
    "        test_batch_count = 0\n",
    "        \n",
    "        for train_feature_batch, train_label_batch in helper.batch_features_labels(test_features, test_labels, batch_size):\n",
    "            test_batch_acc_total += sess.run(\n",
    "                loaded_acc,\n",
    "                feed_dict={loaded_x: train_feature_batch, loaded_y: train_label_batch, loaded_keep_prob: 1.0})\n",
    "            test_batch_count += 1\n",
    "\n",
    "        print('Testing Accuracy: {}\\n'.format(test_batch_acc_total/test_batch_count))\n",
    "\n",
    "        # Print Random Samples\n",
    "        random_test_features, random_test_labels = tuple(zip(*random.sample(list(zip(test_features, test_labels)), n_samples)))\n",
    "        random_test_predictions = sess.run(\n",
    "            tf.nn.top_k(tf.nn.softmax(loaded_logits), top_n_predictions),\n",
    "            feed_dict={loaded_x: random_test_features, loaded_y: random_test_labels, loaded_keep_prob: 1.0})\n",
    "        helper.display_image_predictions(random_test_features, random_test_labels, random_test_predictions)\n",
    "\n",
    "\n",
    "test_model()"
   ]
  },
  {
   "cell_type": "markdown",
   "metadata": {
    "deletable": true,
    "editable": true
   },
   "source": [
    "## Why 50-70% Accuracy?\n",
    "You might be wondering why you can't get an accuracy any higher. First things first, 50% isn't bad for a simple CNN.  Pure guessing would get you 10% accuracy. However, you might notice people are getting scores [well above 70%](http://rodrigob.github.io/are_we_there_yet/build/classification_datasets_results.html#43494641522d3130).  That's because we haven't taught you all there is to know about neural networks. We still need to cover a few more techniques.\n",
    "## Submitting This Project\n",
    "When submitting this project, make sure to run all the cells before saving the notebook.  Save the notebook file as \"dlnd_image_classification.ipynb\" and save it as a HTML file under \"File\" -> \"Download as\".  Include the \"helper.py\" and \"problem_unittests.py\" files in your submission."
   ]
  }
 ],
 "metadata": {
  "kernelspec": {
   "display_name": "Python 3",
   "language": "python",
   "name": "python3"
  },
  "language_info": {
   "codemirror_mode": {
    "name": "ipython",
    "version": 3
   },
   "file_extension": ".py",
   "mimetype": "text/x-python",
   "name": "python",
   "nbconvert_exporter": "python",
   "pygments_lexer": "ipython3",
   "version": "3.5.2"
  },
  "widgets": {
   "state": {},
   "version": "1.1.2"
  }
 },
 "nbformat": 4,
 "nbformat_minor": 0
}
