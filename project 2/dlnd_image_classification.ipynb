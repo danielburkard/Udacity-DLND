{
 "cells": [
  {
   "cell_type": "markdown",
   "metadata": {
    "collapsed": true,
    "deletable": true,
    "editable": true
   },
   "source": [
    "# Image Classification\n",
    "In this project, you'll classify images from the [CIFAR-10 dataset](https://www.cs.toronto.edu/~kriz/cifar.html).  The dataset consists of airplanes, dogs, cats, and other objects. You'll preprocess the images, then train a convolutional neural network on all the samples. The images need to be normalized and the labels need to be one-hot encoded.  You'll get to apply what you learned and build a convolutional, max pooling, dropout, and fully connected layers.  At the end, you'll get to see your neural network's predictions on the sample images.\n",
    "## Get the Data\n",
    "Run the following cell to download the [CIFAR-10 dataset for python](https://www.cs.toronto.edu/~kriz/cifar-10-python.tar.gz)."
   ]
  },
  {
   "cell_type": "code",
   "execution_count": null,
   "metadata": {
    "collapsed": false,
    "deletable": true,
    "editable": true
   },
   "outputs": [],
   "source": [
    "\"\"\"\n",
    "DON'T MODIFY ANYTHING IN THIS CELL THAT IS BELOW THIS LINE\n",
    "\"\"\"\n",
    "from urllib.request import urlretrieve\n",
    "from os.path import isfile, isdir\n",
    "from tqdm import tqdm\n",
    "import problem_unittests as tests\n",
    "import tarfile\n",
    "\n",
    "cifar10_dataset_folder_path = 'cifar-10-batches-py'\n",
    "\n",
    "class DLProgress(tqdm):\n",
    "    last_block = 0\n",
    "\n",
    "    def hook(self, block_num=1, block_size=1, total_size=None):\n",
    "        self.total = total_size\n",
    "        self.update((block_num - self.last_block) * block_size)\n",
    "        self.last_block = block_num\n",
    "\n",
    "if not isfile('cifar-10-python.tar.gz'):\n",
    "    with DLProgress(unit='B', unit_scale=True, miniters=1, desc='CIFAR-10 Dataset') as pbar:\n",
    "        urlretrieve(\n",
    "            'https://www.cs.toronto.edu/~kriz/cifar-10-python.tar.gz',\n",
    "            'cifar-10-python.tar.gz',\n",
    "            pbar.hook)\n",
    "\n",
    "if not isdir(cifar10_dataset_folder_path):\n",
    "    with tarfile.open('cifar-10-python.tar.gz') as tar:\n",
    "        tar.extractall()\n",
    "        tar.close()\n",
    "\n",
    "\n",
    "tests.test_folder_path(cifar10_dataset_folder_path)"
   ]
  },
  {
   "cell_type": "markdown",
   "metadata": {
    "deletable": true,
    "editable": true
   },
   "source": [
    "## Explore the Data\n",
    "The dataset is broken into batches to prevent your machine from running out of memory.  The CIFAR-10 dataset consists of 5 batches, named `data_batch_1`, `data_batch_2`, etc.. Each batch contains the labels and images that are one of the following:\n",
    "* airplane\n",
    "* automobile\n",
    "* bird\n",
    "* cat\n",
    "* deer\n",
    "* dog\n",
    "* frog\n",
    "* horse\n",
    "* ship\n",
    "* truck\n",
    "\n",
    "Understanding a dataset is part of making predictions on the data.  Play around with the code cell below by changing the `batch_id` and `sample_id`. The `batch_id` is the id for a batch (1-5). The `sample_id` is the id for a image and label pair in the batch.\n",
    "\n",
    "Ask yourself \"What are all possible labels?\", \"What is the range of values for the image data?\", \"Are the labels in order or random?\".  Answers to questions like these will help you preprocess the data and end up with better predictions."
   ]
  },
  {
   "cell_type": "code",
   "execution_count": null,
   "metadata": {
    "collapsed": false,
    "deletable": true,
    "editable": true
   },
   "outputs": [],
   "source": [
    "%matplotlib inline\n",
    "%config InlineBackend.figure_format = 'retina'\n",
    "\n",
    "import helper\n",
    "import numpy as np\n",
    "\n",
    "# Explore the dataset\n",
    "batch_id = 2\n",
    "sample_id = 6\n",
    "helper.display_stats(cifar10_dataset_folder_path, batch_id, sample_id)"
   ]
  },
  {
   "cell_type": "markdown",
   "metadata": {
    "deletable": true,
    "editable": true
   },
   "source": [
    "## Implement Preprocess Functions\n",
    "### Normalize\n",
    "In the cell below, implement the `normalize` function to take in image data, `x`, and return it as a normalized Numpy array. The values should be in the range of 0 to 1, inclusive.  The return object should be the same shape as `x`."
   ]
  },
  {
   "cell_type": "code",
   "execution_count": null,
   "metadata": {
    "collapsed": false,
    "deletable": true,
    "editable": true
   },
   "outputs": [],
   "source": [
    "def normalize(x):\n",
    "    \"\"\"\n",
    "    Normalize a list of sample image data in the range of 0 to 1\n",
    "    : x: List of image data.  The image shape is (32, 32, 3)\n",
    "    : return: Numpy array of normalize data\n",
    "    \"\"\"\n",
    "    return x/255\n",
    "\n",
    "\n",
    "\"\"\"\n",
    "DON'T MODIFY ANYTHING IN THIS CELL THAT IS BELOW THIS LINE\n",
    "\"\"\"\n",
    "tests.test_normalize(normalize)"
   ]
  },
  {
   "cell_type": "markdown",
   "metadata": {
    "deletable": true,
    "editable": true
   },
   "source": [
    "### One-hot encode\n",
    "Just like the previous code cell, you'll be implementing a function for preprocessing.  This time, you'll implement the `one_hot_encode` function. The input, `x`, are a list of labels.  Implement the function to return the list of labels as One-Hot encoded Numpy array.  The possible values for labels are 0 to 9. The one-hot encoding function should return the same encoding for each value between each call to `one_hot_encode`.  Make sure to save the map of encodings outside the function.\n",
    "\n",
    "Hint: Don't reinvent the wheel."
   ]
  },
  {
   "cell_type": "code",
   "execution_count": null,
   "metadata": {
    "collapsed": false,
    "deletable": true,
    "editable": true
   },
   "outputs": [],
   "source": [
    "def one_hot_encode(x):\n",
    "    \"\"\"\n",
    "    One hot encode a list of sample labels. Return a one-hot encoded vector for each label.\n",
    "    : x: List of sample Labels\n",
    "    : return: Numpy array of one-hot encoded labels\n",
    "    \"\"\"\n",
    "    a = len(x)\n",
    "    b = np.zeros((a, 10))\n",
    "    b[np.arange(a), x] = 1\n",
    "    \n",
    "    return b\n",
    "\n",
    "\n",
    "\"\"\"\n",
    "DON'T MODIFY ANYTHING IN THIS CELL THAT IS BELOW THIS LINE\n",
    "\"\"\"\n",
    "tests.test_one_hot_encode(one_hot_encode)"
   ]
  },
  {
   "cell_type": "markdown",
   "metadata": {
    "deletable": true,
    "editable": true
   },
   "source": [
    "### Randomize Data\n",
    "As you saw from exploring the data above, the order of the samples are randomized.  It doesn't hurt to randomize it again, but you don't need to for this dataset."
   ]
  },
  {
   "cell_type": "markdown",
   "metadata": {
    "deletable": true,
    "editable": true
   },
   "source": [
    "## Preprocess all the data and save it\n",
    "Running the code cell below will preprocess all the CIFAR-10 data and save it to file. The code below also uses 10% of the training data for validation."
   ]
  },
  {
   "cell_type": "code",
   "execution_count": null,
   "metadata": {
    "collapsed": false,
    "deletable": true,
    "editable": true
   },
   "outputs": [],
   "source": [
    "\"\"\"\n",
    "DON'T MODIFY ANYTHING IN THIS CELL\n",
    "\"\"\"\n",
    "# Preprocess Training, Validation, and Testing Data\n",
    "helper.preprocess_and_save_data(cifar10_dataset_folder_path, normalize, one_hot_encode)"
   ]
  },
  {
   "cell_type": "markdown",
   "metadata": {
    "deletable": true,
    "editable": true
   },
   "source": [
    "# Check Point\n",
    "This is your first checkpoint.  If you ever decide to come back to this notebook or have to restart the notebook, you can start from here.  The preprocessed data has been saved to disk."
   ]
  },
  {
   "cell_type": "code",
   "execution_count": 1,
   "metadata": {
    "collapsed": true,
    "deletable": true,
    "editable": true
   },
   "outputs": [],
   "source": [
    "\"\"\"\n",
    "DON'T MODIFY ANYTHING IN THIS CELL\n",
    "\"\"\"\n",
    "import pickle\n",
    "import problem_unittests as tests\n",
    "import helper\n",
    "\n",
    "# Load the Preprocessed Validation data\n",
    "valid_features, valid_labels = pickle.load(open('preprocess_validation.p', mode='rb'))"
   ]
  },
  {
   "cell_type": "markdown",
   "metadata": {
    "deletable": true,
    "editable": true
   },
   "source": [
    "## Build the network\n",
    "For the neural network, you'll build each layer into a function.  Most of the code you've seen has been outside of functions. To test your code more thoroughly, we require that you put each layer in a function.  This allows us to give you better feedback and test for simple mistakes using our unittests before you submit your project.\n",
    "\n",
    ">**Note:** If you're finding it hard to dedicate enough time for this course each week, we've provided a small shortcut to this part of the project. In the next couple of problems, you'll have the option to use classes from the [TensorFlow Layers](https://www.tensorflow.org/api_docs/python/tf/layers) or [TensorFlow Layers (contrib)](https://www.tensorflow.org/api_guides/python/contrib.layers) packages to build each layer, except the layers you build in the \"Convolutional and Max Pooling Layer\" section.  TF Layers is similar to Keras's and TFLearn's abstraction to layers, so it's easy to pickup.\n",
    "\n",
    ">However, if you would like to get the most out of this course, try to solve all the problems _without_ using anything from the TF Layers packages. You **can** still use classes from other packages that happen to have the same name as ones you find in TF Layers! For example, instead of using the TF Layers version of the `conv2d` class, [tf.layers.conv2d](https://www.tensorflow.org/api_docs/python/tf/layers/conv2d), you would want to use the TF Neural Network version of `conv2d`, [tf.nn.conv2d](https://www.tensorflow.org/api_docs/python/tf/nn/conv2d). \n",
    "\n",
    "Let's begin!\n",
    "\n",
    "### Input\n",
    "The neural network needs to read the image data, one-hot encoded labels, and dropout keep probability. Implement the following functions\n",
    "* Implement `neural_net_image_input`\n",
    " * Return a [TF Placeholder](https://www.tensorflow.org/api_docs/python/tf/placeholder)\n",
    " * Set the shape using `image_shape` with batch size set to `None`.\n",
    " * Name the TensorFlow placeholder \"x\" using the TensorFlow `name` parameter in the [TF Placeholder](https://www.tensorflow.org/api_docs/python/tf/placeholder).\n",
    "* Implement `neural_net_label_input`\n",
    " * Return a [TF Placeholder](https://www.tensorflow.org/api_docs/python/tf/placeholder)\n",
    " * Set the shape using `n_classes` with batch size set to `None`.\n",
    " * Name the TensorFlow placeholder \"y\" using the TensorFlow `name` parameter in the [TF Placeholder](https://www.tensorflow.org/api_docs/python/tf/placeholder).\n",
    "* Implement `neural_net_keep_prob_input`\n",
    " * Return a [TF Placeholder](https://www.tensorflow.org/api_docs/python/tf/placeholder) for dropout keep probability.\n",
    " * Name the TensorFlow placeholder \"keep_prob\" using the TensorFlow `name` parameter in the [TF Placeholder](https://www.tensorflow.org/api_docs/python/tf/placeholder).\n",
    "\n",
    "These names will be used at the end of the project to load your saved model.\n",
    "\n",
    "Note: `None` for shapes in TensorFlow allow for a dynamic size."
   ]
  },
  {
   "cell_type": "code",
   "execution_count": 2,
   "metadata": {
    "collapsed": false,
    "deletable": true,
    "editable": true
   },
   "outputs": [
    {
     "name": "stdout",
     "output_type": "stream",
     "text": [
      "Image Input Tests Passed.\n",
      "Label Input Tests Passed.\n",
      "Keep Prob Tests Passed.\n"
     ]
    }
   ],
   "source": [
    "import tensorflow as tf\n",
    "\n",
    "def neural_net_image_input(image_shape):\n",
    "    \"\"\"\n",
    "    Return a Tensor for a batch of image input\n",
    "    : image_shape: Shape of the images\n",
    "    : return: Tensor for image input.\n",
    "    \"\"\"\n",
    "    image_height = image_shape[0]\n",
    "    image_width = image_shape[1]\n",
    "    color_channels = image_shape[2]\n",
    "    tensor = tf.placeholder(tf.float32,\n",
    "                            shape=[None, image_height, image_width, color_channels],\n",
    "                            name=\"x\")\n",
    "    return tensor\n",
    "\n",
    "\n",
    "def neural_net_label_input(n_classes):\n",
    "    \"\"\"\n",
    "    Return a Tensor for a batch of label input\n",
    "    : n_classes: Number of classes\n",
    "    : return: Tensor for label input.\n",
    "    \"\"\"\n",
    "    tensor = tf.placeholder(tf.float32,\n",
    "                            shape=[None, n_classes],\n",
    "                            name=\"y\")\n",
    "    return tensor\n",
    "\n",
    "\n",
    "def neural_net_keep_prob_input():\n",
    "    \"\"\"\n",
    "    Return a Tensor for keep probability\n",
    "    : return: Tensor for keep probability.\n",
    "    \"\"\"\n",
    "    tensor = tf.placeholder(tf.float32,\n",
    "                            name=\"keep_prob\")\n",
    "    return tensor\n",
    "\n",
    "\n",
    "\"\"\"\n",
    "DON'T MODIFY ANYTHING IN THIS CELL THAT IS BELOW THIS LINE\n",
    "\"\"\"\n",
    "tf.reset_default_graph()\n",
    "tests.test_nn_image_inputs(neural_net_image_input)\n",
    "tests.test_nn_label_inputs(neural_net_label_input)\n",
    "tests.test_nn_keep_prob_inputs(neural_net_keep_prob_input)"
   ]
  },
  {
   "cell_type": "markdown",
   "metadata": {
    "deletable": true,
    "editable": true
   },
   "source": [
    "### Convolution and Max Pooling Layer\n",
    "Convolution layers have a lot of success with images. For this code cell, you should implement the function `conv2d_maxpool` to apply convolution then max pooling:\n",
    "* Create the weight and bias using `conv_ksize`, `conv_num_outputs` and the shape of `x_tensor`.\n",
    "* Apply a convolution to `x_tensor` using weight and `conv_strides`.\n",
    " * We recommend you use same padding, but you're welcome to use any padding.\n",
    "* Add bias\n",
    "* Add a nonlinear activation to the convolution.\n",
    "* Apply Max Pooling using `pool_ksize` and `pool_strides`.\n",
    " * We recommend you use same padding, but you're welcome to use any padding.\n",
    "\n",
    "**Note:** You **can't** use [TensorFlow Layers](https://www.tensorflow.org/api_docs/python/tf/layers) or [TensorFlow Layers (contrib)](https://www.tensorflow.org/api_guides/python/contrib.layers) for **this** layer, but you can still use TensorFlow's [Neural Network](https://www.tensorflow.org/api_docs/python/tf/nn) package. You may still use the shortcut option for all the **other** layers."
   ]
  },
  {
   "cell_type": "code",
   "execution_count": 3,
   "metadata": {
    "collapsed": false,
    "deletable": true,
    "editable": true
   },
   "outputs": [
    {
     "name": "stdout",
     "output_type": "stream",
     "text": [
      "Tests Passed\n"
     ]
    }
   ],
   "source": [
    "def conv2d_maxpool(x_tensor, conv_num_outputs, conv_ksize, conv_strides, pool_ksize, pool_strides):\n",
    "    \"\"\"\n",
    "    Apply convolution then max pooling to x_tensor\n",
    "    :param x_tensor: TensorFlow Tensor\n",
    "    :param conv_num_outputs: Number of outputs for the convolutional layer\n",
    "    :param conv_ksize: kernal size 2-D Tuple for the convolutional layer\n",
    "    :param conv_strides: Stride 2-D Tuple for convolution\n",
    "    :param pool_ksize: kernal size 2-D Tuple for pool\n",
    "    :param pool_strides: Stride 2-D Tuple for pool\n",
    "    : return: A tensor that represents convolution and max pooling of x_tensor\n",
    "    \"\"\"\n",
    "    # convolution helper varibales\n",
    "    input_tensor = x_tensor\n",
    "    convolution_filter_height = conv_ksize[0]\n",
    "    convolution_filter_width = conv_ksize[1] \n",
    "    # http://stackoverflow.com/questions/40666316/how-to-get-tensorflow-tensor-dimensions-shape-as-int-values\n",
    "    input_depth = x_tensor.get_shape().as_list()[3] \n",
    "    output_depth = conv_num_outputs # number of feature maps\n",
    "    convolution_stride_height = conv_strides[0]\n",
    "    convolution_stride_width = conv_strides[1]\n",
    "    filter_padding = 'SAME'\n",
    "    # weights\n",
    "    filter_weights = tf.Variable(tf.truncated_normal((convolution_filter_height,\n",
    "                                                      convolution_filter_width,\n",
    "                                                      input_depth,\n",
    "                                                      output_depth),mean=0.0, stddev=0.05))\n",
    "    # strides\n",
    "    strides = [1, convolution_stride_height, convolution_stride_width, 1] # (batch, height, width, depth)\n",
    "    # convolution\n",
    "    layer = tf.nn.conv2d(input_tensor,\n",
    "                        filter_weights,\n",
    "                        strides,\n",
    "                        filter_padding)\n",
    "    # bias\n",
    "    filter_bias = tf.Variable(tf.truncated_normal([output_depth],mean=0.0, stddev=0.05))\n",
    "    layer = tf.nn.bias_add(layer, filter_bias)\n",
    "    # activation function\n",
    "    layer = tf.nn.relu(layer)\n",
    "    # pooling helper varibles\n",
    "    pooling_filter_height = pool_ksize[0]\n",
    "    pooling_filter_width = pool_ksize[1]\n",
    "    pooling_stride_height = pool_strides[0]\n",
    "    pooling_stride_width = pool_strides[1]\n",
    "    pooling_padding = 'SAME'\n",
    "    # max pooling\n",
    "    layer = tf.nn.max_pool(layer,\n",
    "                           ksize=[1, pooling_filter_height, pooling_filter_width, 1], # (batch, height, width, depth)\n",
    "                           strides=[1, pooling_stride_height, pooling_stride_width, 1], # (batch, height, width, depth)\n",
    "                           padding=pooling_padding)\n",
    "    return layer\n",
    "\n",
    "\"\"\"\n",
    "DON'T MODIFY ANYTHING IN THIS CELL THAT IS BELOW THIS LINE\n",
    "\"\"\"\n",
    "tests.test_con_pool(conv2d_maxpool)"
   ]
  },
  {
   "cell_type": "markdown",
   "metadata": {
    "deletable": true,
    "editable": true
   },
   "source": [
    "### Flatten Layer\n",
    "Implement the `flatten` function to change the dimension of `x_tensor` from a 4-D tensor to a 2-D tensor.  The output should be the shape (*Batch Size*, *Flattened Image Size*). Shortcut option: you can use classes from the [TensorFlow Layers](https://www.tensorflow.org/api_docs/python/tf/layers) or [TensorFlow Layers (contrib)](https://www.tensorflow.org/api_guides/python/contrib.layers) packages for this layer. For more of a challenge, only use other TensorFlow packages."
   ]
  },
  {
   "cell_type": "code",
   "execution_count": 4,
   "metadata": {
    "collapsed": false,
    "deletable": true,
    "editable": true
   },
   "outputs": [
    {
     "name": "stdout",
     "output_type": "stream",
     "text": [
      "Tests Passed\n"
     ]
    }
   ],
   "source": [
    "def flatten(x_tensor):\n",
    "    \"\"\"\n",
    "    Flatten x_tensor to (Batch Size, Flattened Image Size)\n",
    "    : x_tensor: A tensor of size (Batch Size, ...), where ... are the image dimensions.\n",
    "    : return: A tensor of size (Batch Size, Flattened Image Size).\n",
    "    \"\"\"\n",
    "    shape = x_tensor.get_shape().as_list()\n",
    "    height = shape[1]\n",
    "    width = shape[2]\n",
    "    depth = shape[3]\n",
    "    dim = height * width * depth\n",
    "    return tf.reshape(x_tensor, [-1, dim])\n",
    "\n",
    "\n",
    "\"\"\"\n",
    "DON'T MODIFY ANYTHING IN THIS CELL THAT IS BELOW THIS LINE\n",
    "\"\"\"\n",
    "tests.test_flatten(flatten)"
   ]
  },
  {
   "cell_type": "markdown",
   "metadata": {
    "deletable": true,
    "editable": true
   },
   "source": [
    "### Fully-Connected Layer\n",
    "Implement the `fully_conn` function to apply a fully connected layer to `x_tensor` with the shape (*Batch Size*, *num_outputs*). Shortcut option: you can use classes from the [TensorFlow Layers](https://www.tensorflow.org/api_docs/python/tf/layers) or [TensorFlow Layers (contrib)](https://www.tensorflow.org/api_guides/python/contrib.layers) packages for this layer. For more of a challenge, only use other TensorFlow packages."
   ]
  },
  {
   "cell_type": "code",
   "execution_count": 5,
   "metadata": {
    "collapsed": false,
    "deletable": true,
    "editable": true
   },
   "outputs": [
    {
     "name": "stdout",
     "output_type": "stream",
     "text": [
      "Tests Passed\n"
     ]
    }
   ],
   "source": [
    "def fully_conn(x_tensor, num_outputs):\n",
    "    \"\"\"\n",
    "    Apply a fully connected layer to x_tensor using weight and bias\n",
    "    : x_tensor: A 2-D tensor where the first dimension is batch size.\n",
    "    : num_outputs: The number of output that the new tensor should be.\n",
    "    : return: A 2-D tensor where the second dimension is num_outputs.\n",
    "    \"\"\"\n",
    "    n_input = x_tensor.get_shape().as_list()[1]\n",
    "    # weight & bias\n",
    "    weights = tf.Variable(tf.truncated_normal([n_input, num_outputs],mean=0.0, stddev=0.05))\n",
    "    biases = tf.Variable(tf.truncated_normal([num_outputs],mean=0.0, stddev=0.05))\n",
    "    # calculate layer\n",
    "    layer = tf.add(tf.matmul(x_tensor, weights), biases)\n",
    "    layer = tf.nn.relu(layer)\n",
    "    return layer\n",
    "\n",
    "\n",
    "\"\"\"\n",
    "DON'T MODIFY ANYTHING IN THIS CELL THAT IS BELOW THIS LINE\n",
    "\"\"\"\n",
    "tests.test_fully_conn(fully_conn)"
   ]
  },
  {
   "cell_type": "markdown",
   "metadata": {
    "deletable": true,
    "editable": true
   },
   "source": [
    "### Output Layer\n",
    "Implement the `output` function to apply a fully connected layer to `x_tensor` with the shape (*Batch Size*, *num_outputs*). Shortcut option: you can use classes from the [TensorFlow Layers](https://www.tensorflow.org/api_docs/python/tf/layers) or [TensorFlow Layers (contrib)](https://www.tensorflow.org/api_guides/python/contrib.layers) packages for this layer. For more of a challenge, only use other TensorFlow packages.\n",
    "\n",
    "**Note:** Activation, softmax, or cross entropy should **not** be applied to this."
   ]
  },
  {
   "cell_type": "code",
   "execution_count": 6,
   "metadata": {
    "collapsed": false,
    "deletable": true,
    "editable": true
   },
   "outputs": [
    {
     "name": "stdout",
     "output_type": "stream",
     "text": [
      "Tests Passed\n"
     ]
    }
   ],
   "source": [
    "def output(x_tensor, num_outputs):\n",
    "    \"\"\"\n",
    "    Apply a output layer to x_tensor using weight and bias\n",
    "    : x_tensor: A 2-D tensor where the first dimension is batch size.\n",
    "    : num_outputs: The number of output that the new tensor should be.\n",
    "    : return: A 2-D tensor where the second dimension is num_outputs.\n",
    "    \"\"\"\n",
    "    n_input = x_tensor.get_shape().as_list()[1]\n",
    "    # weight & bias\n",
    "    weights = tf.Variable(tf.random_normal([n_input, num_outputs],mean=0.0, stddev=0.05))\n",
    "    biases = tf.Variable(tf.random_normal([num_outputs],mean=0.0, stddev=0.05))\n",
    "    # calculate layer\n",
    "    layer = tf.add(tf.matmul(x_tensor, weights), biases)\n",
    "    return layer\n",
    "\n",
    "\n",
    "\"\"\"\n",
    "DON'T MODIFY ANYTHING IN THIS CELL THAT IS BELOW THIS LINE\n",
    "\"\"\"\n",
    "tests.test_output(output)"
   ]
  },
  {
   "cell_type": "markdown",
   "metadata": {
    "deletable": true,
    "editable": true
   },
   "source": [
    "### Create Convolutional Model\n",
    "Implement the function `conv_net` to create a convolutional neural network model. The function takes in a batch of images, `x`, and outputs logits.  Use the layers you created above to create this model:\n",
    "\n",
    "* Apply 1, 2, or 3 Convolution and Max Pool layers\n",
    "* Apply a Flatten Layer\n",
    "* Apply 1, 2, or 3 Fully Connected Layers\n",
    "* Apply an Output Layer\n",
    "* Return the output\n",
    "* Apply [TensorFlow's Dropout](https://www.tensorflow.org/api_docs/python/tf/nn/dropout) to one or more layers in the model using `keep_prob`. "
   ]
  },
  {
   "cell_type": "code",
   "execution_count": 7,
   "metadata": {
    "collapsed": false,
    "deletable": true,
    "editable": true
   },
   "outputs": [
    {
     "name": "stdout",
     "output_type": "stream",
     "text": [
      "Neural Network Built!\n"
     ]
    }
   ],
   "source": [
    "def conv_net(x, keep_prob):\n",
    "    \"\"\"\n",
    "    Create a convolutional neural network model\n",
    "    : x: Placeholder tensor that holds image data.\n",
    "    : keep_prob: Placeholder tensor that hold dropout keep probability.\n",
    "    : return: Tensor that represents logits\n",
    "    \"\"\"\n",
    "    # Function Definition from Above:\n",
    "    #    conv2d_maxpool(x_tensor, conv_num_outputs, conv_ksize, conv_strides, pool_ksize, pool_strides)\n",
    "    conv_num_outputs = 64 # number of feature maps\n",
    "    conv_ksize = (3,3) # fliter size convolution\n",
    "    conv_strides = (1,1) # stide size convolution\n",
    "    pool_ksize = (1,1) # filter size pooling\n",
    "    pool_strides = (1,1) # stide size pooling\n",
    "    \n",
    "    # Conv -> Relu -> Conv -> Relu -> Pool\n",
    "    conv = conv2d_maxpool(x, 16, conv_ksize, conv_strides, pool_ksize, pool_strides)\n",
    "    conv = conv2d_maxpool(conv, 32, conv_ksize, conv_strides, (2,2), (2,2))\n",
    "    # Conv -> Relu -> Conv -> Relu -> Pool\n",
    "    conv = conv2d_maxpool(conv, 64, conv_ksize, conv_strides, pool_ksize, pool_strides)\n",
    "    conv = conv2d_maxpool(conv, 128, conv_ksize, conv_strides, (2,2), (2,2))\n",
    "    # Conv -> Relu -> Conv -> Relu -> Pool\n",
    "    conv = conv2d_maxpool(conv, 256, conv_ksize, conv_strides, pool_ksize, pool_strides)\n",
    "    conv = conv2d_maxpool(conv, 512, conv_ksize, conv_strides, (2,2), (2,2))\n",
    "    \n",
    "    #conv = tf.nn.dropout(conv, keep_prob)\n",
    "    \n",
    "    # Function Definition from Above:\n",
    "    #   flatten(x_tensor)\n",
    "    conv = flatten(conv)\n",
    "\n",
    "    # Function Definition from Above:\n",
    "    #   fully_conn(x_tensor, num_outputs)\n",
    "    fully_conn_num_outputs = \n",
    "    # FC -> Relu -> FC -> Relu\n",
    "    conv = fully_conn(conv, 128)\n",
    "    conv = tf.nn.dropout(conv, keep_prob)\n",
    "    conv = fully_conn(conv, 64)\n",
    "    \n",
    "    # Function Definition from Above:\n",
    "    #   output(x_tensor, num_outputs)\n",
    "    outpu_layer_num_outputs = 10\n",
    "    conv = output(conv, outpu_layer_num_outputs)\n",
    "    \n",
    "    return conv\n",
    "\n",
    "\n",
    "\"\"\"\n",
    "DON'T MODIFY ANYTHING IN THIS CELL THAT IS BELOW THIS LINE\n",
    "\"\"\"\n",
    "\n",
    "##############################\n",
    "## Build the Neural Network ##\n",
    "##############################\n",
    "\n",
    "# Remove previous weights, bias, inputs, etc..\n",
    "tf.reset_default_graph()\n",
    "\n",
    "# Inputs\n",
    "x = neural_net_image_input((32, 32, 3))\n",
    "y = neural_net_label_input(10)\n",
    "keep_prob = neural_net_keep_prob_input()\n",
    "\n",
    "# Model\n",
    "logits = conv_net(x, keep_prob)\n",
    "\n",
    "# Name logits Tensor, so that is can be loaded from disk after training\n",
    "logits = tf.identity(logits, name='logits')\n",
    "\n",
    "# Loss and Optimizer\n",
    "cost = tf.reduce_mean(tf.nn.softmax_cross_entropy_with_logits(logits=logits, labels=y))\n",
    "optimizer = tf.train.AdamOptimizer().minimize(cost)\n",
    "\n",
    "# Accuracy\n",
    "correct_pred = tf.equal(tf.argmax(logits, 1), tf.argmax(y, 1))\n",
    "accuracy = tf.reduce_mean(tf.cast(correct_pred, tf.float32), name='accuracy')\n",
    "\n",
    "tests.test_conv_net(conv_net)"
   ]
  },
  {
   "cell_type": "markdown",
   "metadata": {
    "deletable": true,
    "editable": true
   },
   "source": [
    "## Train the Neural Network\n",
    "### Single Optimization\n",
    "Implement the function `train_neural_network` to do a single optimization.  The optimization should use `optimizer` to optimize in `session` with a `feed_dict` of the following:\n",
    "* `x` for image input\n",
    "* `y` for labels\n",
    "* `keep_prob` for keep probability for dropout\n",
    "\n",
    "This function will be called for each batch, so `tf.global_variables_initializer()` has already been called.\n",
    "\n",
    "Note: Nothing needs to be returned. This function is only optimizing the neural network."
   ]
  },
  {
   "cell_type": "code",
   "execution_count": 8,
   "metadata": {
    "collapsed": false,
    "deletable": true,
    "editable": true
   },
   "outputs": [
    {
     "name": "stdout",
     "output_type": "stream",
     "text": [
      "Tests Passed\n"
     ]
    }
   ],
   "source": [
    "def train_neural_network(session, optimizer, keep_probability, feature_batch, label_batch):\n",
    "    \"\"\"\n",
    "    Optimize the session on a batch of images and labels\n",
    "    : session: Current TensorFlow session\n",
    "    : optimizer: TensorFlow optimizer function\n",
    "    : keep_probability: keep probability\n",
    "    : feature_batch: Batch of Numpy image data\n",
    "    : label_batch: Batch of Numpy label data\n",
    "    \"\"\"\n",
    "    session.run(optimizer, feed_dict={\n",
    "                x: feature_batch,\n",
    "                y: label_batch,\n",
    "                keep_prob: keep_probability})\n",
    "\n",
    "\n",
    "\"\"\"\n",
    "DON'T MODIFY ANYTHING IN THIS CELL THAT IS BELOW THIS LINE\n",
    "\"\"\"\n",
    "tests.test_train_nn(train_neural_network)"
   ]
  },
  {
   "cell_type": "markdown",
   "metadata": {
    "deletable": true,
    "editable": true
   },
   "source": [
    "### Show Stats\n",
    "Implement the function `print_stats` to print loss and validation accuracy.  Use the global variables `valid_features` and `valid_labels` to calculate validation accuracy.  Use a keep probability of `1.0` to calculate the loss and validation accuracy."
   ]
  },
  {
   "cell_type": "code",
   "execution_count": 9,
   "metadata": {
    "collapsed": false,
    "deletable": true,
    "editable": true
   },
   "outputs": [],
   "source": [
    "from datetime import datetime\n",
    "\n",
    "validation_length = valid_features.shape[0] - 1\n",
    "validation_batch_size = 200\n",
    "\n",
    "def print_stats(session, feature_batch, label_batch, cost, accuracy):\n",
    "    \"\"\"\n",
    "    Print information about loss and validation accuracy\n",
    "    : session: Current TensorFlow session\n",
    "    : feature_batch: Batch of Numpy image data\n",
    "    : label_batch: Batch of Numpy label data\n",
    "    : cost: TensorFlow cost function\n",
    "    : accuracy: TensorFlow accuracy function\n",
    "    \"\"\"\n",
    "    loss = session.run(cost, feed_dict={\n",
    "                x: feature_batch,\n",
    "                y: label_batch,\n",
    "                keep_prob: 1.})\n",
    "    \n",
    "    valid_acc = 0\n",
    "    count = 0\n",
    "    for start in range(0,validation_length,validation_batch_size):\n",
    "        end = start + batch_size -1\n",
    "        features = valid_features[start:end]\n",
    "        labels = valid_labels[start:end]\n",
    "        valid_acc += session.run(accuracy, feed_dict={\n",
    "                x: features,\n",
    "                y: labels,\n",
    "                keep_prob: 1.})\n",
    "        count += 1\n",
    "    valid_acc = valid_acc / count\n",
    "    print(\"Time: \" + datetime.now().strftime(\"%H:%M:%S\"))\n",
    "    print('Loss: {:>10.4f} Validation Accuracy: {:.6f}'.format(loss,valid_acc))"
   ]
  },
  {
   "cell_type": "markdown",
   "metadata": {
    "deletable": true,
    "editable": true
   },
   "source": [
    "### Hyperparameters\n",
    "Tune the following parameters:\n",
    "* Set `epochs` to the number of iterations until the network stops learning or start overfitting\n",
    "* Set `batch_size` to the highest number that your machine has memory for.  Most people set them to common sizes of memory:\n",
    " * 64\n",
    " * 128\n",
    " * 256\n",
    " * ...\n",
    "* Set `keep_probability` to the probability of keeping a node using dropout"
   ]
  },
  {
   "cell_type": "code",
   "execution_count": 10,
   "metadata": {
    "collapsed": true,
    "deletable": true,
    "editable": true
   },
   "outputs": [],
   "source": [
    "epochs = 30\n",
    "batch_size = 512\n",
    "keep_probability = 0.5"
   ]
  },
  {
   "cell_type": "markdown",
   "metadata": {
    "deletable": true,
    "editable": true
   },
   "source": [
    "### Train on a Single CIFAR-10 Batch\n",
    "Instead of training the neural network on all the CIFAR-10 batches of data, let's use a single batch. This should save time while you iterate on the model to get a better accuracy.  Once the final validation accuracy is 50% or greater, run the model on all the data in the next section."
   ]
  },
  {
   "cell_type": "code",
   "execution_count": 12,
   "metadata": {
    "collapsed": false,
    "deletable": true,
    "editable": true
   },
   "outputs": [
    {
     "name": "stdout",
     "output_type": "stream",
     "text": [
      "Checking the Training on a Single Batch...\n",
      "Epoch  1, CIFAR-10 Batch 1:  Time: 17:03:59\n",
      "Loss:     2.1062 Validation Accuracy: 0.243531\n",
      "Epoch  2, CIFAR-10 Batch 1:  Time: 17:04:12\n",
      "Loss:     2.0507 Validation Accuracy: 0.252155\n",
      "Epoch  3, CIFAR-10 Batch 1:  Time: 17:04:25\n",
      "Loss:     1.9953 Validation Accuracy: 0.282308\n",
      "Epoch  4, CIFAR-10 Batch 1:  Time: 17:04:39\n",
      "Loss:     1.9030 Validation Accuracy: 0.319146\n",
      "Epoch  5, CIFAR-10 Batch 1:  Time: 17:04:52\n",
      "Loss:     1.8474 Validation Accuracy: 0.320842\n",
      "Epoch  6, CIFAR-10 Batch 1:  Time: 17:05:06\n",
      "Loss:     1.7321 Validation Accuracy: 0.365677\n",
      "Epoch  7, CIFAR-10 Batch 1:  Time: 17:05:19\n",
      "Loss:     1.6707 Validation Accuracy: 0.396313\n",
      "Epoch  8, CIFAR-10 Batch 1:  Time: 17:05:32\n",
      "Loss:     1.5963 Validation Accuracy: 0.415247\n",
      "Epoch  9, CIFAR-10 Batch 1:  Time: 17:05:46\n",
      "Loss:     1.5172 Validation Accuracy: 0.430816\n",
      "Epoch 10, CIFAR-10 Batch 1:  Time: 17:05:59\n",
      "Loss:     1.4978 Validation Accuracy: 0.444353\n",
      "Epoch 11, CIFAR-10 Batch 1:  Time: 17:06:12\n",
      "Loss:     1.4047 Validation Accuracy: 0.461335\n",
      "Epoch 12, CIFAR-10 Batch 1:  Time: 17:06:26\n",
      "Loss:     1.3404 Validation Accuracy: 0.480643\n",
      "Epoch 13, CIFAR-10 Batch 1:  Time: 17:06:39\n",
      "Loss:     1.2753 Validation Accuracy: 0.480913\n",
      "Epoch 14, CIFAR-10 Batch 1:  Time: 17:06:53\n",
      "Loss:     1.2421 Validation Accuracy: 0.508675\n",
      "Epoch 15, CIFAR-10 Batch 1:  Time: 17:07:06\n",
      "Loss:     1.1331 Validation Accuracy: 0.522791\n",
      "Epoch 16, CIFAR-10 Batch 1:  Time: 17:07:19\n",
      "Loss:     1.0653 Validation Accuracy: 0.534645\n",
      "Epoch 17, CIFAR-10 Batch 1:  Time: 17:07:33\n",
      "Loss:     0.9615 Validation Accuracy: 0.538703\n",
      "Epoch 18, CIFAR-10 Batch 1:  Time: 17:07:46\n",
      "Loss:     0.9260 Validation Accuracy: 0.549227\n",
      "Epoch 19, CIFAR-10 Batch 1:  Time: 17:07:59\n",
      "Loss:     0.8680 Validation Accuracy: 0.559012\n",
      "Epoch 20, CIFAR-10 Batch 1:  Time: 17:08:13\n",
      "Loss:     0.8177 Validation Accuracy: 0.552284\n",
      "Epoch 21, CIFAR-10 Batch 1:  Time: 17:08:26\n",
      "Loss:     0.8729 Validation Accuracy: 0.542126\n",
      "Epoch 22, CIFAR-10 Batch 1:  Time: 17:08:39\n",
      "Loss:     0.7706 Validation Accuracy: 0.554267\n",
      "Epoch 23, CIFAR-10 Batch 1:  Time: 17:08:53\n",
      "Loss:     0.6513 Validation Accuracy: 0.580085\n",
      "Epoch 24, CIFAR-10 Batch 1:  Time: 17:09:06\n",
      "Loss:     0.6359 Validation Accuracy: 0.562712\n",
      "Epoch 25, CIFAR-10 Batch 1:  Time: 17:09:20\n",
      "Loss:     0.5517 Validation Accuracy: 0.574067\n",
      "Epoch 26, CIFAR-10 Batch 1:  Time: 17:09:33\n",
      "Loss:     0.5130 Validation Accuracy: 0.571005\n",
      "Epoch 27, CIFAR-10 Batch 1:  Time: 17:09:46\n",
      "Loss:     0.4563 Validation Accuracy: 0.583560\n",
      "Epoch 28, CIFAR-10 Batch 1:  Time: 17:10:00\n",
      "Loss:     0.4380 Validation Accuracy: 0.583347\n",
      "Epoch 29, CIFAR-10 Batch 1:  Time: 17:10:13\n",
      "Loss:     0.4226 Validation Accuracy: 0.589631\n",
      "Epoch 30, CIFAR-10 Batch 1:  Time: 17:10:26\n",
      "Loss:     0.4211 Validation Accuracy: 0.574593\n"
     ]
    }
   ],
   "source": [
    "\"\"\"\n",
    "DON'T MODIFY ANYTHING IN THIS CELL\n",
    "\"\"\"\n",
    "print('Checking the Training on a Single Batch...')\n",
    "with tf.Session() as sess:\n",
    "    # Initializing the variables\n",
    "    sess.run(tf.global_variables_initializer())\n",
    "    \n",
    "    # Training cycle\n",
    "    for epoch in range(epochs):\n",
    "        batch_i = 1\n",
    "        for batch_features, batch_labels in helper.load_preprocess_training_batch(batch_i, batch_size):\n",
    "            train_neural_network(sess, optimizer, keep_probability, batch_features, batch_labels)\n",
    "        print('Epoch {:>2}, CIFAR-10 Batch {}:  '.format(epoch + 1, batch_i), end='')\n",
    "        print_stats(sess, batch_features, batch_labels, cost, accuracy)"
   ]
  },
  {
   "cell_type": "markdown",
   "metadata": {
    "deletable": true,
    "editable": true
   },
   "source": [
    "### Fully Train the Model\n",
    "Now that you got a good accuracy with a single CIFAR-10 batch, try it with all five batches."
   ]
  },
  {
   "cell_type": "code",
   "execution_count": 13,
   "metadata": {
    "collapsed": false,
    "deletable": true,
    "editable": true
   },
   "outputs": [
    {
     "name": "stdout",
     "output_type": "stream",
     "text": [
      "Training...\n",
      "Epoch  1, CIFAR-10 Batch 1:  Time: 17:12:09\n",
      "Loss:     2.1141 Validation Accuracy: 0.236291\n",
      "Epoch  1, CIFAR-10 Batch 2:  Time: 17:12:23\n",
      "Loss:     1.9966 Validation Accuracy: 0.250107\n",
      "Epoch  1, CIFAR-10 Batch 3:  Time: 17:12:36\n",
      "Loss:     1.8407 Validation Accuracy: 0.319612\n",
      "Epoch  1, CIFAR-10 Batch 4:  Time: 17:12:49\n",
      "Loss:     1.7175 Validation Accuracy: 0.348443\n",
      "Epoch  1, CIFAR-10 Batch 5:  Time: 17:13:03\n",
      "Loss:     1.7053 Validation Accuracy: 0.372548\n",
      "Epoch  2, CIFAR-10 Batch 1:  Time: 17:13:16\n",
      "Loss:     1.7286 Validation Accuracy: 0.380984\n",
      "Epoch  2, CIFAR-10 Batch 2:  Time: 17:13:29\n",
      "Loss:     1.5965 Validation Accuracy: 0.416326\n",
      "Epoch  2, CIFAR-10 Batch 3:  Time: 17:13:43\n",
      "Loss:     1.3247 Validation Accuracy: 0.431721\n",
      "Epoch  2, CIFAR-10 Batch 4:  Time: 17:13:56\n",
      "Loss:     1.3929 Validation Accuracy: 0.448220\n",
      "Epoch  2, CIFAR-10 Batch 5:  Time: 17:14:10\n",
      "Loss:     1.4411 Validation Accuracy: 0.459065\n",
      "Epoch  3, CIFAR-10 Batch 1:  Time: 17:14:23\n",
      "Loss:     1.5522 Validation Accuracy: 0.462235\n",
      "Epoch  3, CIFAR-10 Batch 2:  Time: 17:14:36\n",
      "Loss:     1.3593 Validation Accuracy: 0.487367\n",
      "Epoch  3, CIFAR-10 Batch 3:  Time: 17:14:50\n",
      "Loss:     1.1654 Validation Accuracy: 0.502187\n",
      "Epoch  3, CIFAR-10 Batch 4:  Time: 17:15:03\n",
      "Loss:     1.1948 Validation Accuracy: 0.528236\n",
      "Epoch  3, CIFAR-10 Batch 5:  Time: 17:15:16\n",
      "Loss:     1.2804 Validation Accuracy: 0.507649\n",
      "Epoch  4, CIFAR-10 Batch 1:  Time: 17:15:30\n",
      "Loss:     1.2808 Validation Accuracy: 0.539677\n",
      "Epoch  4, CIFAR-10 Batch 2:  Time: 17:15:43\n",
      "Loss:     1.1593 Validation Accuracy: 0.549892\n",
      "Epoch  4, CIFAR-10 Batch 3:  Time: 17:15:57\n",
      "Loss:     1.0777 Validation Accuracy: 0.551867\n",
      "Epoch  4, CIFAR-10 Batch 4:  Time: 17:16:10\n",
      "Loss:     1.0657 Validation Accuracy: 0.551171\n",
      "Epoch  4, CIFAR-10 Batch 5:  Time: 17:16:23\n",
      "Loss:     1.0768 Validation Accuracy: 0.567904\n",
      "Epoch  5, CIFAR-10 Batch 1:  Time: 17:16:37\n",
      "Loss:     1.1463 Validation Accuracy: 0.570248\n",
      "Epoch  5, CIFAR-10 Batch 2:  Time: 17:16:50\n",
      "Loss:     1.0306 Validation Accuracy: 0.590918\n",
      "Epoch  5, CIFAR-10 Batch 3:  Time: 17:17:03\n",
      "Loss:     0.9776 Validation Accuracy: 0.579915\n",
      "Epoch  5, CIFAR-10 Batch 4:  Time: 17:17:17\n",
      "Loss:     0.9417 Validation Accuracy: 0.593622\n",
      "Epoch  5, CIFAR-10 Batch 5:  Time: 17:17:30\n",
      "Loss:     1.0152 Validation Accuracy: 0.598932\n",
      "Epoch  6, CIFAR-10 Batch 1:  Time: 17:17:44\n",
      "Loss:     1.0925 Validation Accuracy: 0.603964\n",
      "Epoch  6, CIFAR-10 Batch 2:  Time: 17:17:57\n",
      "Loss:     0.9872 Validation Accuracy: 0.631117\n",
      "Epoch  6, CIFAR-10 Batch 3:  Time: 17:18:10\n",
      "Loss:     0.8364 Validation Accuracy: 0.627329\n",
      "Epoch  6, CIFAR-10 Batch 4:  Time: 17:18:24\n",
      "Loss:     0.8011 Validation Accuracy: 0.637896\n",
      "Epoch  6, CIFAR-10 Batch 5:  Time: 17:18:37\n",
      "Loss:     0.9083 Validation Accuracy: 0.622685\n",
      "Epoch  7, CIFAR-10 Batch 1:  Time: 17:18:50\n",
      "Loss:     0.9577 Validation Accuracy: 0.638127\n",
      "Epoch  7, CIFAR-10 Batch 2:  Time: 17:19:04\n",
      "Loss:     0.8522 Validation Accuracy: 0.655535\n",
      "Epoch  7, CIFAR-10 Batch 3:  Time: 17:19:17\n",
      "Loss:     0.7940 Validation Accuracy: 0.655513\n",
      "Epoch  7, CIFAR-10 Batch 4:  Time: 17:19:31\n",
      "Loss:     0.7105 Validation Accuracy: 0.661366\n",
      "Epoch  7, CIFAR-10 Batch 5:  Time: 17:19:44\n",
      "Loss:     0.8382 Validation Accuracy: 0.651661\n",
      "Epoch  8, CIFAR-10 Batch 1:  Time: 17:19:57\n",
      "Loss:     0.8610 Validation Accuracy: 0.664080\n",
      "Epoch  8, CIFAR-10 Batch 2:  Time: 17:20:11\n",
      "Loss:     0.7795 Validation Accuracy: 0.665302\n",
      "Epoch  8, CIFAR-10 Batch 3:  Time: 17:20:24\n",
      "Loss:     0.7204 Validation Accuracy: 0.668651\n",
      "Epoch  8, CIFAR-10 Batch 4:  Time: 17:20:37\n",
      "Loss:     0.6401 Validation Accuracy: 0.669938\n",
      "Epoch  8, CIFAR-10 Batch 5:  Time: 17:20:51\n",
      "Loss:     0.7279 Validation Accuracy: 0.665198\n",
      "Epoch  9, CIFAR-10 Batch 1:  Time: 17:21:04\n",
      "Loss:     0.7736 Validation Accuracy: 0.686380\n",
      "Epoch  9, CIFAR-10 Batch 2:  Time: 17:21:18\n",
      "Loss:     0.7329 Validation Accuracy: 0.668007\n",
      "Epoch  9, CIFAR-10 Batch 3:  Time: 17:21:31\n",
      "Loss:     0.6364 Validation Accuracy: 0.680231\n",
      "Epoch  9, CIFAR-10 Batch 4:  Time: 17:21:44\n",
      "Loss:     0.6023 Validation Accuracy: 0.678588\n",
      "Epoch  9, CIFAR-10 Batch 5:  Time: 17:21:58\n",
      "Loss:     0.6617 Validation Accuracy: 0.685589\n",
      "Epoch 10, CIFAR-10 Batch 1:  Time: 17:22:11\n",
      "Loss:     0.6894 Validation Accuracy: 0.704636\n",
      "Epoch 10, CIFAR-10 Batch 2:  Time: 17:22:24\n",
      "Loss:     0.6156 Validation Accuracy: 0.695661\n",
      "Epoch 10, CIFAR-10 Batch 3:  Time: 17:22:38\n",
      "Loss:     0.6120 Validation Accuracy: 0.691186\n",
      "Epoch 10, CIFAR-10 Batch 4:  Time: 17:22:51\n",
      "Loss:     0.5428 Validation Accuracy: 0.699870\n",
      "Epoch 10, CIFAR-10 Batch 5:  Time: 17:23:05\n",
      "Loss:     0.5981 Validation Accuracy: 0.711299\n",
      "Epoch 11, CIFAR-10 Batch 1:  Time: 17:23:18\n",
      "Loss:     0.6375 Validation Accuracy: 0.697535\n",
      "Epoch 11, CIFAR-10 Batch 2:  Time: 17:23:31\n",
      "Loss:     0.6273 Validation Accuracy: 0.680832\n",
      "Epoch 11, CIFAR-10 Batch 3:  Time: 17:23:45\n",
      "Loss:     0.5169 Validation Accuracy: 0.709185\n",
      "Epoch 11, CIFAR-10 Batch 4:  Time: 17:23:58\n",
      "Loss:     0.5173 Validation Accuracy: 0.713216\n",
      "Epoch 11, CIFAR-10 Batch 5:  Time: 17:24:11\n",
      "Loss:     0.5173 Validation Accuracy: 0.711760\n",
      "Epoch 12, CIFAR-10 Batch 1:  Time: 17:24:25\n",
      "Loss:     0.6029 Validation Accuracy: 0.713086\n",
      "Epoch 12, CIFAR-10 Batch 2:  Time: 17:24:38\n",
      "Loss:     0.5835 Validation Accuracy: 0.686946\n",
      "Epoch 12, CIFAR-10 Batch 3:  Time: 17:24:52\n",
      "Loss:     0.4811 Validation Accuracy: 0.712669\n",
      "Epoch 12, CIFAR-10 Batch 4:  Time: 17:25:05\n",
      "Loss:     0.4986 Validation Accuracy: 0.722079\n",
      "Epoch 12, CIFAR-10 Batch 5:  Time: 17:25:18\n",
      "Loss:     0.5084 Validation Accuracy: 0.714160\n",
      "Epoch 13, CIFAR-10 Batch 1:  Time: 17:25:32\n",
      "Loss:     0.5626 Validation Accuracy: 0.724267\n",
      "Epoch 13, CIFAR-10 Batch 2:  Time: 17:25:45\n",
      "Loss:     0.5249 Validation Accuracy: 0.712386\n",
      "Epoch 13, CIFAR-10 Batch 3:  Time: 17:25:58\n",
      "Loss:     0.4729 Validation Accuracy: 0.709938\n",
      "Epoch 13, CIFAR-10 Batch 4:  Time: 17:26:12\n",
      "Loss:     0.4672 Validation Accuracy: 0.720931\n",
      "Epoch 13, CIFAR-10 Batch 5:  Time: 17:26:25\n",
      "Loss:     0.4620 Validation Accuracy: 0.725619\n",
      "Epoch 14, CIFAR-10 Batch 1:  Time: 17:26:39\n",
      "Loss:     0.4997 Validation Accuracy: 0.733303\n",
      "Epoch 14, CIFAR-10 Batch 2:  Time: 17:26:52\n",
      "Loss:     0.4407 Validation Accuracy: 0.722162\n",
      "Epoch 14, CIFAR-10 Batch 3:  Time: 17:27:05\n",
      "Loss:     0.4262 Validation Accuracy: 0.727293\n",
      "Epoch 14, CIFAR-10 Batch 4:  Time: 17:27:19\n",
      "Loss:     0.4363 Validation Accuracy: 0.736264\n",
      "Epoch 14, CIFAR-10 Batch 5:  Time: 17:27:32\n",
      "Loss:     0.4266 Validation Accuracy: 0.723296\n",
      "Epoch 15, CIFAR-10 Batch 1:  Time: 17:27:45\n",
      "Loss:     0.4811 Validation Accuracy: 0.743231\n",
      "Epoch 15, CIFAR-10 Batch 2:  Time: 17:27:59\n",
      "Loss:     0.4631 Validation Accuracy: 0.723501\n",
      "Epoch 15, CIFAR-10 Batch 3:  Time: 17:28:12\n",
      "Loss:     0.3808 Validation Accuracy: 0.731525\n",
      "Epoch 15, CIFAR-10 Batch 4:  Time: 17:28:26\n",
      "Loss:     0.3799 Validation Accuracy: 0.736669\n",
      "Epoch 15, CIFAR-10 Batch 5:  Time: 17:28:39\n",
      "Loss:     0.3850 Validation Accuracy: 0.734546\n",
      "Epoch 16, CIFAR-10 Batch 1:  Time: 17:28:52\n",
      "Loss:     0.4526 Validation Accuracy: 0.732164\n",
      "Epoch 16, CIFAR-10 Batch 2:  Time: 17:29:06\n",
      "Loss:     0.4082 Validation Accuracy: 0.734121\n",
      "Epoch 16, CIFAR-10 Batch 3:  Time: 17:29:19\n",
      "Loss:     0.3761 Validation Accuracy: 0.729759\n",
      "Epoch 16, CIFAR-10 Batch 4:  Time: 17:29:32\n",
      "Loss:     0.3398 Validation Accuracy: 0.745875\n",
      "Epoch 16, CIFAR-10 Batch 5:  Time: 17:29:46\n",
      "Loss:     0.3487 Validation Accuracy: 0.735829\n",
      "Epoch 17, CIFAR-10 Batch 1:  Time: 17:29:59\n",
      "Loss:     0.4165 Validation Accuracy: 0.735303\n",
      "Epoch 17, CIFAR-10 Batch 2:  Time: 17:30:13\n",
      "Loss:     0.3437 Validation Accuracy: 0.743061\n",
      "Epoch 17, CIFAR-10 Batch 3:  Time: 17:30:26\n",
      "Loss:     0.3475 Validation Accuracy: 0.742927\n",
      "Epoch 17, CIFAR-10 Batch 4:  Time: 17:30:39\n",
      "Loss:     0.3453 Validation Accuracy: 0.738435\n",
      "Epoch 17, CIFAR-10 Batch 5:  Time: 17:30:53\n",
      "Loss:     0.3017 Validation Accuracy: 0.739008\n",
      "Epoch 18, CIFAR-10 Batch 1:  Time: 17:31:06\n",
      "Loss:     0.4088 Validation Accuracy: 0.732894\n",
      "Epoch 18, CIFAR-10 Batch 2:  Time: 17:31:19\n",
      "Loss:     0.3327 Validation Accuracy: 0.745958\n",
      "Epoch 18, CIFAR-10 Batch 3:  Time: 17:31:33\n",
      "Loss:     0.3033 Validation Accuracy: 0.749554\n",
      "Epoch 18, CIFAR-10 Batch 4:  Time: 17:31:46\n",
      "Loss:     0.3224 Validation Accuracy: 0.747397\n",
      "Epoch 18, CIFAR-10 Batch 5:  Time: 17:31:59\n",
      "Loss:     0.2771 Validation Accuracy: 0.750837\n",
      "Epoch 19, CIFAR-10 Batch 1:  Time: 17:32:13\n",
      "Loss:     0.3914 Validation Accuracy: 0.730046\n",
      "Epoch 19, CIFAR-10 Batch 2:  Time: 17:32:26\n",
      "Loss:     0.3062 Validation Accuracy: 0.742409\n",
      "Epoch 19, CIFAR-10 Batch 3:  Time: 17:32:40\n",
      "Loss:     0.2775 Validation Accuracy: 0.756520\n",
      "Epoch 19, CIFAR-10 Batch 4:  Time: 17:32:53\n",
      "Loss:     0.3264 Validation Accuracy: 0.737039\n",
      "Epoch 19, CIFAR-10 Batch 5:  Time: 17:33:06\n",
      "Loss:     0.2647 Validation Accuracy: 0.747727\n",
      "Epoch 20, CIFAR-10 Batch 1:  Time: 17:33:20\n",
      "Loss:     0.3529 Validation Accuracy: 0.733420\n",
      "Epoch 20, CIFAR-10 Batch 2:  Time: 17:33:33\n",
      "Loss:     0.2572 Validation Accuracy: 0.753246\n",
      "Epoch 20, CIFAR-10 Batch 3:  Time: 17:33:46\n",
      "Loss:     0.2801 Validation Accuracy: 0.742231\n",
      "Epoch 20, CIFAR-10 Batch 4:  Time: 17:34:00\n",
      "Loss:     0.2625 Validation Accuracy: 0.741700\n",
      "Epoch 20, CIFAR-10 Batch 5:  Time: 17:34:13\n",
      "Loss:     0.2588 Validation Accuracy: 0.736260\n",
      "Epoch 21, CIFAR-10 Batch 1:  Time: 17:34:27\n",
      "Loss:     0.3253 Validation Accuracy: 0.739934\n",
      "Epoch 21, CIFAR-10 Batch 2:  Time: 17:34:40\n",
      "Loss:     0.2471 Validation Accuracy: 0.757413\n",
      "Epoch 21, CIFAR-10 Batch 3:  Time: 17:34:53\n",
      "Loss:     0.2730 Validation Accuracy: 0.728402\n",
      "Epoch 21, CIFAR-10 Batch 4:  Time: 17:35:07\n",
      "Loss:     0.2306 Validation Accuracy: 0.751842\n",
      "Epoch 21, CIFAR-10 Batch 5:  Time: 17:35:20\n",
      "Loss:     0.2176 Validation Accuracy: 0.739891\n",
      "Epoch 22, CIFAR-10 Batch 1:  Time: 17:35:33\n",
      "Loss:     0.2838 Validation Accuracy: 0.744057\n",
      "Epoch 22, CIFAR-10 Batch 2:  Time: 17:35:47\n",
      "Loss:     0.2128 Validation Accuracy: 0.765162\n",
      "Epoch 22, CIFAR-10 Batch 3:  Time: 17:36:00\n",
      "Loss:     0.2131 Validation Accuracy: 0.749897\n",
      "Epoch 22, CIFAR-10 Batch 4:  Time: 17:36:14\n",
      "Loss:     0.2132 Validation Accuracy: 0.748458\n",
      "Epoch 22, CIFAR-10 Batch 5:  Time: 17:36:27\n",
      "Loss:     0.1885 Validation Accuracy: 0.744449\n",
      "Epoch 23, CIFAR-10 Batch 1:  Time: 17:36:40\n",
      "Loss:     0.2774 Validation Accuracy: 0.744023\n",
      "Epoch 23, CIFAR-10 Batch 2:  Time: 17:36:54\n",
      "Loss:     0.1854 Validation Accuracy: 0.753895\n",
      "Epoch 23, CIFAR-10 Batch 3:  Time: 17:37:07\n",
      "Loss:     0.2083 Validation Accuracy: 0.755186\n",
      "Epoch 23, CIFAR-10 Batch 4:  Time: 17:37:20\n",
      "Loss:     0.1714 Validation Accuracy: 0.761861\n",
      "Epoch 23, CIFAR-10 Batch 5:  Time: 17:37:34\n",
      "Loss:     0.1992 Validation Accuracy: 0.739087\n",
      "Epoch 24, CIFAR-10 Batch 1:  Time: 17:37:47\n",
      "Loss:     0.2588 Validation Accuracy: 0.749889\n",
      "Epoch 24, CIFAR-10 Batch 2:  Time: 17:38:01\n",
      "Loss:     0.1819 Validation Accuracy: 0.754112\n",
      "Epoch 24, CIFAR-10 Batch 3:  Time: 17:38:14\n",
      "Loss:     0.1826 Validation Accuracy: 0.757286\n",
      "Epoch 24, CIFAR-10 Batch 4:  Time: 17:38:27\n",
      "Loss:     0.1531 Validation Accuracy: 0.756960\n",
      "Epoch 24, CIFAR-10 Batch 5:  Time: 17:38:41\n",
      "Loss:     0.1562 Validation Accuracy: 0.739157\n",
      "Epoch 25, CIFAR-10 Batch 1:  Time: 17:38:54\n",
      "Loss:     0.2535 Validation Accuracy: 0.742531\n",
      "Epoch 25, CIFAR-10 Batch 2:  Time: 17:39:07\n",
      "Loss:     0.1977 Validation Accuracy: 0.752555\n",
      "Epoch 25, CIFAR-10 Batch 3:  Time: 17:39:21\n",
      "Loss:     0.1729 Validation Accuracy: 0.747397\n",
      "Epoch 25, CIFAR-10 Batch 4:  Time: 17:39:34\n",
      "Loss:     0.1583 Validation Accuracy: 0.760274\n",
      "Epoch 25, CIFAR-10 Batch 5:  Time: 17:39:48\n",
      "Loss:     0.1582 Validation Accuracy: 0.745184\n",
      "Epoch 26, CIFAR-10 Batch 1:  Time: 17:40:01\n",
      "Loss:     0.2402 Validation Accuracy: 0.748571\n",
      "Epoch 26, CIFAR-10 Batch 2:  Time: 17:40:14\n",
      "Loss:     0.1783 Validation Accuracy: 0.759143\n",
      "Epoch 26, CIFAR-10 Batch 3:  Time: 17:40:28\n",
      "Loss:     0.1749 Validation Accuracy: 0.746001\n",
      "Epoch 26, CIFAR-10 Batch 4:  Time: 17:40:41\n",
      "Loss:     0.1385 Validation Accuracy: 0.747584\n",
      "Epoch 26, CIFAR-10 Batch 5:  Time: 17:40:54\n",
      "Loss:     0.1584 Validation Accuracy: 0.739948\n",
      "Epoch 27, CIFAR-10 Batch 1:  Time: 17:41:08\n",
      "Loss:     0.2411 Validation Accuracy: 0.751280\n",
      "Epoch 27, CIFAR-10 Batch 2:  Time: 17:41:21\n",
      "Loss:     0.1452 Validation Accuracy: 0.754172\n",
      "Epoch 27, CIFAR-10 Batch 3:  Time: 17:41:34\n",
      "Loss:     0.1532 Validation Accuracy: 0.755329\n",
      "Epoch 27, CIFAR-10 Batch 4:  Time: 17:41:48\n",
      "Loss:     0.1367 Validation Accuracy: 0.746405\n",
      "Epoch 27, CIFAR-10 Batch 5:  Time: 17:42:01\n",
      "Loss:     0.1745 Validation Accuracy: 0.752794\n",
      "Epoch 28, CIFAR-10 Batch 1:  Time: 17:42:15\n",
      "Loss:     0.1979 Validation Accuracy: 0.751189\n",
      "Epoch 28, CIFAR-10 Batch 2:  Time: 17:42:28\n",
      "Loss:     0.1606 Validation Accuracy: 0.753859\n",
      "Epoch 28, CIFAR-10 Batch 3:  Time: 17:42:41\n",
      "Loss:     0.1289 Validation Accuracy: 0.767353\n",
      "Epoch 28, CIFAR-10 Batch 4:  Time: 17:42:55\n",
      "Loss:     0.1495 Validation Accuracy: 0.757473\n",
      "Epoch 28, CIFAR-10 Batch 5:  Time: 17:43:08\n",
      "Loss:     0.1240 Validation Accuracy: 0.764257\n",
      "Epoch 29, CIFAR-10 Batch 1:  Time: 17:43:21\n",
      "Loss:     0.1559 Validation Accuracy: 0.768001\n",
      "Epoch 29, CIFAR-10 Batch 2:  Time: 17:43:35\n",
      "Loss:     0.1654 Validation Accuracy: 0.742327\n",
      "Epoch 29, CIFAR-10 Batch 3:  Time: 17:43:48\n",
      "Loss:     0.1189 Validation Accuracy: 0.761791\n",
      "Epoch 29, CIFAR-10 Batch 4:  Time: 17:44:02\n",
      "Loss:     0.1234 Validation Accuracy: 0.755025\n",
      "Epoch 29, CIFAR-10 Batch 5:  Time: 17:44:15\n",
      "Loss:     0.1411 Validation Accuracy: 0.759308\n",
      "Epoch 30, CIFAR-10 Batch 1:  Time: 17:44:28\n",
      "Loss:     0.1687 Validation Accuracy: 0.744762\n",
      "Epoch 30, CIFAR-10 Batch 2:  Time: 17:44:42\n",
      "Loss:     0.0958 Validation Accuracy: 0.754999\n",
      "Epoch 30, CIFAR-10 Batch 3:  Time: 17:44:55\n",
      "Loss:     0.1388 Validation Accuracy: 0.767105\n",
      "Epoch 30, CIFAR-10 Batch 4:  Time: 17:45:08\n",
      "Loss:     0.1078 Validation Accuracy: 0.759921\n",
      "Epoch 30, CIFAR-10 Batch 5:  Time: 17:45:22\n",
      "Loss:     0.1156 Validation Accuracy: 0.750645\n"
     ]
    }
   ],
   "source": [
    "\"\"\"\n",
    "DON'T MODIFY ANYTHING IN THIS CELL\n",
    "\"\"\"\n",
    "save_model_path = './image_classification'\n",
    "\n",
    "print('Training...')\n",
    "with tf.Session() as sess:\n",
    "    # Initializing the variables\n",
    "    sess.run(tf.global_variables_initializer())\n",
    "    \n",
    "    # Training cycle\n",
    "    for epoch in range(epochs):\n",
    "        # Loop over all batches\n",
    "        n_batches = 5\n",
    "        for batch_i in range(1, n_batches + 1):\n",
    "            for batch_features, batch_labels in helper.load_preprocess_training_batch(batch_i, batch_size):\n",
    "                train_neural_network(sess, optimizer, keep_probability, batch_features, batch_labels)\n",
    "            print('Epoch {:>2}, CIFAR-10 Batch {}:  '.format(epoch + 1, batch_i), end='')\n",
    "            print_stats(sess, batch_features, batch_labels, cost, accuracy)\n",
    "            \n",
    "    # Save Model\n",
    "    saver = tf.train.Saver()\n",
    "    save_path = saver.save(sess, save_model_path)"
   ]
  },
  {
   "cell_type": "markdown",
   "metadata": {
    "deletable": true,
    "editable": true
   },
   "source": [
    "# Checkpoint\n",
    "The model has been saved to disk.\n",
    "## Test Model\n",
    "Test your model against the test dataset.  This will be your final accuracy. You should have an accuracy greater than 50%. If you don't, keep tweaking the model architecture and parameters."
   ]
  },
  {
   "cell_type": "code",
   "execution_count": 14,
   "metadata": {
    "collapsed": false,
    "deletable": true,
    "editable": true
   },
   "outputs": [
    {
     "name": "stdout",
     "output_type": "stream",
     "text": [
      "Testing Accuracy: 0.7439970135688782\n",
      "\n"
     ]
    },
    {
     "data": {
      "image/png": "[encoded data removed]",
      "text/plain": [
       "<matplotlib.figure.Figure at 0x7fdedca0cfd0>"
      ]
     },
     "metadata": {
      "image/png": {
       "height": 319,
       "width": 355
      }
     },
     "output_type": "display_data"
    }
   ],
   "source": [
    "\"\"\"\n",
    "DON'T MODIFY ANYTHING IN THIS CELL\n",
    "\"\"\"\n",
    "%matplotlib inline\n",
    "%config InlineBackend.figure_format = 'retina'\n",
    "\n",
    "import tensorflow as tf\n",
    "import pickle\n",
    "import helper\n",
    "import random\n",
    "\n",
    "# Set batch size if not already set\n",
    "try:\n",
    "    if batch_size:\n",
    "        pass\n",
    "except NameError:\n",
    "    batch_size = 64\n",
    "\n",
    "save_model_path = './image_classification'\n",
    "n_samples = 4\n",
    "top_n_predictions = 3\n",
    "\n",
    "def test_model():\n",
    "    \"\"\"\n",
    "    Test the saved model against the test dataset\n",
    "    \"\"\"\n",
    "\n",
    "    test_features, test_labels = pickle.load(open('preprocess_training.p', mode='rb'))\n",
    "    loaded_graph = tf.Graph()\n",
    "\n",
    "    with tf.Session(graph=loaded_graph) as sess:\n",
    "        # Load model\n",
    "        loader = tf.train.import_meta_graph(save_model_path + '.meta')\n",
    "        loader.restore(sess, save_model_path)\n",
    "\n",
    "        # Get Tensors from loaded model\n",
    "        loaded_x = loaded_graph.get_tensor_by_name('x:0')\n",
    "        loaded_y = loaded_graph.get_tensor_by_name('y:0')\n",
    "        loaded_keep_prob = loaded_graph.get_tensor_by_name('keep_prob:0')\n",
    "        loaded_logits = loaded_graph.get_tensor_by_name('logits:0')\n",
    "        loaded_acc = loaded_graph.get_tensor_by_name('accuracy:0')\n",
    "        \n",
    "        # Get accuracy in batches for memory limitations\n",
    "        test_batch_acc_total = 0\n",
    "        test_batch_count = 0\n",
    "        \n",
    "        for train_feature_batch, train_label_batch in helper.batch_features_labels(test_features, test_labels, batch_size):\n",
    "            test_batch_acc_total += sess.run(\n",
    "                loaded_acc,\n",
    "                feed_dict={loaded_x: train_feature_batch, loaded_y: train_label_batch, loaded_keep_prob: 1.0})\n",
    "            test_batch_count += 1\n",
    "\n",
    "        print('Testing Accuracy: {}\\n'.format(test_batch_acc_total/test_batch_count))\n",
    "\n",
    "        # Print Random Samples\n",
    "        random_test_features, random_test_labels = tuple(zip(*random.sample(list(zip(test_features, test_labels)), n_samples)))\n",
    "        random_test_predictions = sess.run(\n",
    "            tf.nn.top_k(tf.nn.softmax(loaded_logits), top_n_predictions),\n",
    "            feed_dict={loaded_x: random_test_features, loaded_y: random_test_labels, loaded_keep_prob: 1.0})\n",
    "        helper.display_image_predictions(random_test_features, random_test_labels, random_test_predictions)\n",
    "\n",
    "\n",
    "test_model()"
   ]
  },
  {
   "cell_type": "markdown",
   "metadata": {
    "deletable": true,
    "editable": true
   },
   "source": [
    "## Why 50-70% Accuracy?\n",
    "You might be wondering why you can't get an accuracy any higher. First things first, 50% isn't bad for a simple CNN.  Pure guessing would get you 10% accuracy. However, you might notice people are getting scores [well above 70%](http://rodrigob.github.io/are_we_there_yet/build/classification_datasets_results.html#43494641522d3130).  That's because we haven't taught you all there is to know about neural networks. We still need to cover a few more techniques.\n",
    "## Submitting This Project\n",
    "When submitting this project, make sure to run all the cells before saving the notebook.  Save the notebook file as \"dlnd_image_classification.ipynb\" and save it as a HTML file under \"File\" -> \"Download as\".  Include the \"helper.py\" and \"problem_unittests.py\" files in your submission."
   ]
  }
 ],
 "metadata": {
  "kernelspec": {
   "display_name": "Python 3",
   "language": "python",
   "name": "python3"
  },
  "language_info": {
   "codemirror_mode": {
    "name": "ipython",
    "version": 3
   },
   "file_extension": ".py",
   "mimetype": "text/x-python",
   "name": "python",
   "nbconvert_exporter": "python",
   "pygments_lexer": "ipython3",
   "version": "3.5.2"
  },
  "widgets": {
   "state": {},
   "version": "1.1.2"
  }
 },
 "nbformat": 4,
 "nbformat_minor": 0
}
